{
 "cells": [
  {
   "cell_type": "code",
   "execution_count": 1,
   "metadata": {},
   "outputs": [
    {
     "name": "stdout",
     "output_type": "stream",
     "text": [
      "\n",
      "Welcome to PyPhi!\n",
      "\n",
      "If you use PyPhi in your research, please cite the paper:\n",
      "\n",
      "  Mayner WGP, Marshall W, Albantakis L, Findlay G, Marchman R, Tononi G.\n",
      "  (2018). PyPhi: A toolbox for integrated information theory.\n",
      "  PLOS Computational Biology 14(7): e1006343.\n",
      "  https://doi.org/10.1371/journal.pcbi.1006343\n",
      "\n",
      "Documentation is available online (or with the built-in `help()` function):\n",
      "  https://pyphi.readthedocs.io\n",
      "\n",
      "To report issues, please use the issue tracker on the GitHub repository:\n",
      "  https://github.com/wmayner/pyphi\n",
      "\n",
      "For general discussion, you are welcome to join the pyphi-users group:\n",
      "  https://groups.google.com/forum/#!forum/pyphi-users\n",
      "\n",
      "To suppress this message, either:\n",
      "  - Set `WELCOME_OFF: true` in your `pyphi_config.yml` file, or\n",
      "  - Set the environment variable PYPHI_WELCOME_OFF to any value in your shell:\n",
      "        export PYPHI_WELCOME_OFF='yes'\n",
      "\n"
     ]
    }
   ],
   "source": [
    "# Analysing initial outputs from Maggie's game\n",
    "import pickle\n",
    "import numpy as np\n",
    "import matplotlib.pyplot as plt\n",
    "from scipy.stats import entropy as ent\n",
    "import pyphi\n",
    "import time\n",
    "import math\n",
    "\n",
    "import sys\n",
    "sys.path.insert(0, '/Users/bjornjuel/projects/actual_agency_fork/')\n",
    "\n",
    "from pyanimats import *\n",
    "from actual_agency import *\n",
    "import pyphi\n",
    "\n",
    "pyphi.config.VALIDATE_SUBSYSTEM_STATES = False\n",
    "pyphi.config.PARTITION_TYPE = 'TRI'\n",
    "\n",
    "%load_ext autoreload\n",
    "%autoreload 2"
   ]
  },
  {
   "cell_type": "code",
   "execution_count": 156,
   "metadata": {},
   "outputs": [],
   "source": [
    "# some functions for generating TPM and activity pattern for toy systems\n",
    "def gen_cm(n_hidden,n_motors,n_sensors,p_connection=0.5,p_excitatory=0.5,w=None):\n",
    "    \n",
    "    n_nodes = n_hidden + n_sensors + n_motors\n",
    "    # first, indicate the node types (excitatory (+1) or inhibitory (-1))\n",
    "    node_types = 2*(np.random.rand(n_nodes) < p_excitatory) - 1\n",
    "    \n",
    "    # next, produce binary CM to indicate wether or not there is a connection\n",
    "    connection = np.random.rand(n_nodes,n_nodes) < p_connection\n",
    "    \n",
    "    # then, set synaptic weights for individual connections\n",
    "    if w == None:\n",
    "        w = np.ones((n_nodes,n_nodes))/np.sqrt(n_nodes*p_connection)\n",
    "    elif type(w) == int or type(w) == float:\n",
    "        w = np.ones((n_nodes,n_nodes))*w\n",
    "        \n",
    "    \n",
    "    # finally, produce CM\n",
    "    cm = np.array([[w[i,j]*node_types[j]*connection[i,j] for i in range(n_nodes)] for j in range(n_nodes)])\n",
    "    cm[:,:n_sensors] = 0\n",
    "    cm[n_sensors:n_sensors+n_motors,:] = 0\n",
    "    \n",
    "    cm = np.around(cm,decimals=2)\n",
    "    \n",
    "    return cm\n",
    "\n",
    "def get_states(n_nodes):\n",
    "    return np.array(([list(('{:0'+str(n_nodes)+'d}').format(int(bin(x)[2:]))) for x in range(2**n_nodes)])).astype(int)\n",
    "\n",
    "def next_state(cm,activation,state):\n",
    "    \n",
    "    node_input = np.matmul(state,cm)\n",
    "    \n",
    "    if activation == 'sigmoid':\n",
    "        p_activation = [sigmoid(i) for i in node_input]\n",
    "        \n",
    "    elif activation == 'deterministic':\n",
    "        p_activation = [1 if i>0 else 0 for i in node_input]\n",
    "        \n",
    "    return p_activation\n",
    "\n",
    "\n",
    "def sample_tpm(cm,activation):\n",
    "    \n",
    "    nodes = cm.shape[0]\n",
    "    next_states = np.zeros((2**nodes,nodes))\n",
    "    states = get_states(nodes)\n",
    "    \n",
    "    for state,row in zip(states,range(2**nodes)):\n",
    "        next_states[row,:] = next_state(cm,activation,state)\n",
    "            \n",
    "    return next_states\n",
    "\n",
    "\n",
    "def gen_tpm(n_hidden,n_motors,n_sensors,p_connection=0.5,p_excitatory=0.5,w=None,activation = 'sigmoid'):\n",
    "    \n",
    "    total_nodes = n_sensors + n_hidden+ n_motors\n",
    "    \n",
    "    # generate a CM\n",
    "    cm = gen_cm(n_hidden,n_motors,n_sensors,p_connection,p_excitatory,w)\n",
    "    \n",
    "    # Generates TPM for the agent.\n",
    "    \n",
    "    tpm = sample_tpm(cm,activation)\n",
    "    \n",
    "    tpm = pyphi.convert.to_multidimensional(tpm)\n",
    "\n",
    "    return tpm,cm\n",
    "\n",
    "\n",
    "def sigmoid(x,slope=1,center=0):\n",
    "    return 1 / (1 + math.exp(-slope*(x-center)))\n",
    "\n",
    "def gen_BrainActivity(animat,trials,times,initial_state = None):\n",
    "    tpm = animat.brain.tpm\n",
    "    \n",
    "    if initial_state == None:\n",
    "        initial_state = np.random.randint(0,2,(trials,animat.n_nodes))\n",
    "    elif len(initial_state)==animat.n_nodes:\n",
    "        initial_state = np.matlib.repmat(initial_state,trials,1)\n",
    "    elif not len(initial_state) == trials:\n",
    "        print(\"randomizing intiial states as one was not defined for each trial\")\n",
    "        initial_state = np.random.randint(0,2,(trials,animat.n_nodes))\n",
    "        \n",
    "    threshold = np.random.rand(trials,times,animat.n_nodes)\n",
    "    brain_activity = np.zeros((trials,times,animat.n_nodes))\n",
    "    \n",
    "    for trial in range(trials):\n",
    "        brain_activity[trial,0,:] = initial_state[trial,:]\n",
    "        for time in range(1,times):\n",
    "            p_activation = tpm[tuple(brain_activity[trial,time-1,:].astype(int))]\n",
    "            next_state = [1 if p>t else 0 for p,t in zip(p_activation,threshold[trial,time,:])]\n",
    "            brain_activity[trial,time,:] = next_state\n",
    "            \n",
    "    return brain_activity.astype(int)\n",
    "    \n",
    "\n",
    "def save_phi_from_MCs(animat):\n",
    "    '''\n",
    "\n",
    "        Inputs:\n",
    "\n",
    "        Outputs:\n",
    "    '''\n",
    "\n",
    "    phis = []\n",
    "    for s in animat.unique_states:\n",
    "\n",
    "        if animat.MCs[state2num(s)] == None:\n",
    "            phis.append(0)\n",
    "        else:\n",
    "            phis.append(animat.MCs[state2num(s)].phi)\n",
    "    animat.phis = phis\n",
    "\n",
    "\n",
    "def calc_effective_information(tpm,n_nodes):\n",
    "    \n",
    "    shp = tpm.shape\n",
    "    # chacking that tpm is in state by state\n",
    "    if not len(shp) == 2:\n",
    "        tpm = pyphi.convert.to_2dimensional(tpm)\n",
    "        tpm = pyphi.convert.state_by_node2state_by_state(tpm)\n",
    "    if len(shp) == 2 and not shp[0] == shp[1]:\n",
    "        tpm = pyphi.convert.state_by_node2state_by_state(tpm)\n",
    "        \n",
    "    determinism = np.mean([np.log2(2**n_nodes) - ent(tp) for tp in tpm]) # expected_entropy_of_out_weights\n",
    "    degeneracy = np.log2(2**n_nodes) - ent(np.mean(tpm,0))\n",
    "    \n",
    "    return determinism - degeneracy\n"
   ]
  },
  {
   "cell_type": "code",
   "execution_count": 65,
   "metadata": {
    "scrolled": true
   },
   "outputs": [],
   "source": [
    "# creating an animat\n",
    "n_sensors = 1\n",
    "n_hidden = 4\n",
    "n_motors = 1\n",
    "animat = Animat({'hiddenNodes' : n_hidden, 'nrOfLeftSensors' : 1, 'nrOfRightSensors' : 0, 'motorNodes' : 1})\n",
    "tpm,cm = gen_tpm(n_hidden,n_motors,n_sensors,p_connection=0.8,p_excitatory=0.8,w=1)\n",
    "animat.saveBrain(tpm,np.ceil(np.abs(cm)))"
   ]
  },
  {
   "cell_type": "code",
   "execution_count": null,
   "metadata": {},
   "outputs": [],
   "source": [
    "# running analysis over multiple random networks\n",
    "# setting parameters\n",
    "n_sensors = 1\n",
    "n_hidden = 4\n",
    "n_motors = 1\n",
    "trials = 3\n",
    "times = 20\n",
    "\n",
    "data = pd.DataFrame(columns=['p_conn','p_ex','animat','unique_states','unique_transitions',\n",
    "                            'phi_max','phi_mean','non-zero_states','mean_complex_size',\n",
    "                             'mean_alpha_motor_direct','size_purview_motor_direct',\n",
    "                             'mean_alpha_complex_direct','size_purview_motor_direct',\n",
    "                             'mean_alpha_motor_backtrack','size_purview_motor_backtrack',\n",
    "                             'mean_alpha_complex_backtrack','size_purview_motor_backtrack',\n",
    "                             'hiddenratio_direct_motor','hiddenratio_direct_MC',\n",
    "                             'hiddenratio_backtrack_motor','hiddenratio_backtrack_MC',\n",
    "                             'duration_backtrack_motor','duration_backtrack_MC',\n",
    "                             'MCcause_MC_overlaps','motorcause_MC_overlap'])\n",
    "\n",
    "# looping over connectivity properties\n",
    "p_connection = [0.2, 0.4, 0.6, 0.8, 1.0]\n",
    "p_excitatory = [0.5, 0.6, 0.7, 0.8, 0.9, 1.0]\n",
    "repetitions = 10\n",
    "for c in p_connection:\n",
    "    for e in p_excitatory:\n",
    "        for r in range(reps):\n",
    "            # creating the animat\n",
    "            animat = Animat({'hiddenNodes' : n_hidden, \n",
    "                 'nrOfLeftSensors' : n_sensors, \n",
    "                 'nrOfRightSensors' : 0, \n",
    "                 'motorNodes' : n_motors})\n",
    "            tpm,cm = gen_tpm(n_hidden,n_motors,n_sensors,p_connection=c,p_excitatory=p,w=1)\n",
    "            animat.saveBrain(tpm,np.ceil(np.abs(cm)))\n",
    "            \n",
    "            # creating brain activity from TPM\n",
    "            animat.saveBrainActivity(gen_BrainActivity(animat,trials,times))\n",
    "            \n",
    "            # finding and saving unique states and transitions\n",
    "            animat.saveUniqueTransitions()\n",
    "            animat.saveUniqueStates()\n",
    "            \n",
    "            # calculating IIT parameters for all unique states \n",
    "            pyphi.config.PROGRESS_BARS=False\n",
    "            animat.save_major_complex()\n",
    "            \n",
    "            # calculating AC parameters for unique transitions\n",
    "            animat.save_unique_causal_links()\n",
    "            \n",
    "            # saving phis\n",
    "            save_phi_from_MCs(animat)\n",
    "            \n",
    "            # getting the dynamic evolution of the complexes\n",
    "            history = history_of_complexes(animat,only_state_changes=False)\n",
    "            \n",
    "            # calculating the causal history of the complexes...\n",
    "            MC_cause = get_causal_history(animat, 0,MC=True)\n",
    "            \n",
    "            # ... and of the motor states\n",
    "            MC_cause = get_causal_history(animat, 0,MC=False)\n",
    "            \n",
    "            # get backtracking for motor ...\n",
    "            backtrack_cause_enumerated(animat, trial, t, ocurrence_ixs, max_backsteps=3, purview_type='union', debug=False)\n",
    "                \n",
    "            # ... and MC\n",
    "            backtrack_cause_enumerated(animat, trial, t, ocurrence_ixs, max_backsteps=3, purview_type='union', debug=False)\n",
    "            \n",
    "            # getting the overlaps between complex and cause purviews for motor states ...\n",
    "            occ = (2,3)\n",
    "            overlaps_motor = [get_complex_purview_overlap(animat,trans,occ) for trans in animat.unique_transitions]\n",
    "            \n",
    "            # ... and the complex itself\n",
    "            overlaps_MC = [get_complex_purview_overlap(animat,trans,'MC') for trans in animat.unique_transitions]\n",
    "            \n",
    "            # creating structure to add to dataframe"
   ]
  },
  {
   "cell_type": "code",
   "execution_count": 159,
   "metadata": {},
   "outputs": [],
   "source": [
    "# creating brain activity from TPM\n",
    "animat.saveBrainActivity(gen_BrainActivity(animat,3,20))\n"
   ]
  },
  {
   "cell_type": "code",
   "execution_count": 163,
   "metadata": {},
   "outputs": [
    {
     "data": {
      "text/plain": [
       "array([[[1, 1, 1, 1, 1, 0],\n",
       "        [0, 1, 1, 0, 1, 1],\n",
       "        [1, 1, 1, 1, 1, 1],\n",
       "        [1, 1, 1, 1, 1, 1],\n",
       "        [0, 1, 1, 1, 1, 1],\n",
       "        [1, 1, 1, 1, 1, 1],\n",
       "        [0, 1, 1, 1, 1, 1],\n",
       "        [0, 1, 1, 1, 1, 1],\n",
       "        [0, 1, 1, 1, 1, 1],\n",
       "        [1, 1, 1, 0, 1, 1],\n",
       "        [0, 1, 1, 1, 1, 1],\n",
       "        [1, 1, 0, 1, 1, 1],\n",
       "        [0, 1, 1, 0, 1, 1],\n",
       "        [1, 1, 1, 0, 1, 1],\n",
       "        [0, 1, 0, 0, 1, 1],\n",
       "        [1, 1, 0, 0, 1, 1],\n",
       "        [1, 1, 0, 0, 1, 1],\n",
       "        [0, 1, 1, 1, 1, 1],\n",
       "        [1, 1, 1, 1, 1, 1],\n",
       "        [1, 1, 1, 1, 1, 1]],\n",
       "\n",
       "       [[1, 1, 0, 1, 1, 0],\n",
       "        [1, 0, 1, 1, 1, 1],\n",
       "        [0, 1, 1, 1, 1, 1],\n",
       "        [0, 1, 1, 1, 1, 1],\n",
       "        [0, 1, 1, 1, 1, 1],\n",
       "        [0, 1, 1, 0, 1, 1],\n",
       "        [0, 1, 1, 1, 1, 1],\n",
       "        [0, 1, 1, 0, 0, 1],\n",
       "        [0, 1, 0, 1, 1, 1],\n",
       "        [0, 0, 1, 1, 1, 1],\n",
       "        [0, 1, 1, 1, 1, 0],\n",
       "        [1, 1, 1, 0, 0, 0],\n",
       "        [1, 1, 0, 1, 1, 1],\n",
       "        [0, 1, 1, 1, 1, 1],\n",
       "        [0, 1, 1, 1, 1, 1],\n",
       "        [1, 1, 0, 1, 0, 1],\n",
       "        [1, 1, 1, 1, 1, 1],\n",
       "        [1, 1, 1, 1, 1, 1],\n",
       "        [1, 1, 1, 1, 1, 1],\n",
       "        [0, 1, 1, 1, 1, 1]],\n",
       "\n",
       "       [[1, 0, 1, 1, 0, 1],\n",
       "        [0, 1, 1, 1, 1, 1],\n",
       "        [0, 0, 1, 1, 1, 1],\n",
       "        [0, 1, 0, 1, 1, 1],\n",
       "        [1, 1, 1, 1, 1, 1],\n",
       "        [1, 1, 0, 1, 1, 1],\n",
       "        [1, 1, 1, 1, 1, 0],\n",
       "        [0, 0, 1, 1, 1, 1],\n",
       "        [0, 1, 1, 1, 1, 1],\n",
       "        [0, 1, 1, 1, 1, 1],\n",
       "        [1, 0, 1, 1, 1, 1],\n",
       "        [1, 0, 1, 1, 1, 1],\n",
       "        [1, 1, 1, 1, 1, 1],\n",
       "        [1, 1, 1, 1, 1, 1],\n",
       "        [0, 1, 1, 1, 1, 1],\n",
       "        [0, 1, 1, 1, 1, 1],\n",
       "        [1, 1, 1, 1, 1, 1],\n",
       "        [1, 1, 1, 1, 1, 1],\n",
       "        [0, 1, 1, 1, 0, 1],\n",
       "        [0, 1, 1, 1, 1, 1]]])"
      ]
     },
     "execution_count": 163,
     "metadata": {},
     "output_type": "execute_result"
    }
   ],
   "source": [
    "animat.brain_activity"
   ]
  },
  {
   "cell_type": "code",
   "execution_count": 160,
   "metadata": {},
   "outputs": [],
   "source": [
    "# finding and saving unique states and transitions\n",
    "animat.saveUniqueTransitions()\n",
    "animat.saveUniqueStates()"
   ]
  },
  {
   "cell_type": "code",
   "execution_count": 161,
   "metadata": {},
   "outputs": [
    {
     "name": "stdout",
     "output_type": "stream",
     "text": [
      "Finding MC for state number 0 out of 18 unique states\n",
      "Finding MC for state number 1 out of 18 unique states\n",
      "Finding MC for state number 2 out of 18 unique states\n",
      "Finding MC for state number 3 out of 18 unique states\n",
      "Finding MC for state number 4 out of 18 unique states\n",
      "Finding MC for state number 5 out of 18 unique states\n",
      "Finding MC for state number 6 out of 18 unique states\n",
      "Finding MC for state number 7 out of 18 unique states\n",
      "Finding MC for state number 8 out of 18 unique states\n",
      "Finding MC for state number 9 out of 18 unique states\n",
      "Finding MC for state number 10 out of 18 unique states\n",
      "Finding MC for state number 11 out of 18 unique states\n",
      "Finding MC for state number 12 out of 18 unique states\n",
      "Finding MC for state number 13 out of 18 unique states\n",
      "Finding MC for state number 14 out of 18 unique states\n",
      "Finding MC for state number 15 out of 18 unique states\n",
      "Finding MC for state number 16 out of 18 unique states\n",
      "Finding MC for state number 17 out of 18 unique states\n"
     ]
    }
   ],
   "source": [
    "# calculating IIT parameters for all unique states \n",
    "pyphi.config.PROGRESS_BARS=False\n",
    "animat.save_major_complex()"
   ]
  },
  {
   "cell_type": "code",
   "execution_count": 162,
   "metadata": {
    "scrolled": true
   },
   "outputs": [
    {
     "name": "stdout",
     "output_type": "stream",
     "text": [
      "Finding causes for transition number 0 out of 41 unique transitions\n",
      "Finding causes for transition number 1 out of 41 unique transitions\n",
      "Finding causes for transition number 2 out of 41 unique transitions\n",
      "Finding causes for transition number 3 out of 41 unique transitions\n",
      "Finding causes for transition number 4 out of 41 unique transitions\n",
      "Finding causes for transition number 5 out of 41 unique transitions\n",
      "Finding causes for transition number 6 out of 41 unique transitions\n",
      "Finding causes for transition number 7 out of 41 unique transitions\n",
      "Finding causes for transition number 8 out of 41 unique transitions\n",
      "Finding causes for transition number 9 out of 41 unique transitions\n",
      "Finding causes for transition number 10 out of 41 unique transitions\n",
      "Finding causes for transition number 11 out of 41 unique transitions\n",
      "Finding causes for transition number 12 out of 41 unique transitions\n",
      "Finding causes for transition number 13 out of 41 unique transitions\n",
      "Finding causes for transition number 14 out of 41 unique transitions\n",
      "Finding causes for transition number 15 out of 41 unique transitions\n",
      "Finding causes for transition number 16 out of 41 unique transitions\n",
      "Finding causes for transition number 17 out of 41 unique transitions\n",
      "Finding causes for transition number 18 out of 41 unique transitions\n",
      "Finding causes for transition number 19 out of 41 unique transitions\n",
      "Finding causes for transition number 20 out of 41 unique transitions\n",
      "Finding causes for transition number 21 out of 41 unique transitions\n",
      "Finding causes for transition number 22 out of 41 unique transitions\n",
      "Finding causes for transition number 23 out of 41 unique transitions\n",
      "Finding causes for transition number 24 out of 41 unique transitions\n",
      "Finding causes for transition number 25 out of 41 unique transitions\n",
      "Finding causes for transition number 26 out of 41 unique transitions\n",
      "Finding causes for transition number 27 out of 41 unique transitions\n",
      "Finding causes for transition number 28 out of 41 unique transitions\n",
      "Finding causes for transition number 29 out of 41 unique transitions\n",
      "Finding causes for transition number 30 out of 41 unique transitions\n",
      "Finding causes for transition number 31 out of 41 unique transitions\n",
      "Finding causes for transition number 32 out of 41 unique transitions\n",
      "Finding causes for transition number 33 out of 41 unique transitions\n",
      "Finding causes for transition number 34 out of 41 unique transitions\n",
      "Finding causes for transition number 35 out of 41 unique transitions\n",
      "Finding causes for transition number 36 out of 41 unique transitions\n",
      "Finding causes for transition number 37 out of 41 unique transitions\n",
      "Finding causes for transition number 38 out of 41 unique transitions\n",
      "Finding causes for transition number 39 out of 41 unique transitions\n",
      "Finding causes for transition number 40 out of 41 unique transitions\n"
     ]
    }
   ],
   "source": [
    "# calculating AC parameters for unique transitions\n",
    "animat.save_unique_causal_links()"
   ]
  },
  {
   "cell_type": "code",
   "execution_count": 71,
   "metadata": {},
   "outputs": [],
   "source": [
    "save_phi_from_MCs(animat)"
   ]
  },
  {
   "cell_type": "code",
   "execution_count": 72,
   "metadata": {},
   "outputs": [],
   "source": [
    "history = history_of_complexes(animat,only_state_changes=False)"
   ]
  },
  {
   "cell_type": "code",
   "execution_count": 73,
   "metadata": {},
   "outputs": [],
   "source": [
    "MC_cause = get_causal_history(animat, 0,MC=True)"
   ]
  },
  {
   "cell_type": "code",
   "execution_count": 74,
   "metadata": {},
   "outputs": [
    {
     "data": {
      "text/plain": [
       "[(0, 2, 4),\n",
       " (0, 2, 3, 4),\n",
       " (0, 2, 3, 4),\n",
       " (0, 3, 4),\n",
       " (0, 2, 3, 4),\n",
       " (0, 2, 3, 4),\n",
       " (0, 2, 3, 4),\n",
       " (),\n",
       " (0, 3, 4),\n",
       " (0, 3, 4),\n",
       " (0, 3, 4),\n",
       " (0, 2, 3, 4),\n",
       " (),\n",
       " (0, 3, 4),\n",
       " (0, 3, 4),\n",
       " (0, 3, 4),\n",
       " (0, 2, 3, 4),\n",
       " (0, 2, 3, 4),\n",
       " (0, 2, 3, 4)]"
      ]
     },
     "execution_count": 74,
     "metadata": {},
     "output_type": "execute_result"
    }
   ],
   "source": [
    "MC_cause"
   ]
  },
  {
   "cell_type": "code",
   "execution_count": 76,
   "metadata": {
    "scrolled": true
   },
   "outputs": [
    {
     "data": {
      "text/plain": [
       "<matplotlib.colorbar.Colorbar at 0x12b3e1d90>"
      ]
     },
     "execution_count": 76,
     "metadata": {},
     "output_type": "execute_result"
    },
    {
     "data": {
      "image/png": "[encoded data removed]",
      "text/plain": [
       "<Figure size 432x288 with 2 Axes>"
      ]
     },
     "metadata": {
      "needs_background": "light"
     },
     "output_type": "display_data"
    }
   ],
   "source": [
    "\n",
    "complex_cause_history = [[1 if i in cause else 0 for i in range(animat.n_nodes)] for cause in MC_cause]\n",
    "plt.imshow(complex_cause_history)\n",
    "plt.colorbar()"
   ]
  },
  {
   "cell_type": "code",
   "execution_count": 81,
   "metadata": {},
   "outputs": [
    {
     "data": {
      "text/plain": [
       "0.115903"
      ]
     },
     "execution_count": 81,
     "metadata": {},
     "output_type": "execute_result"
    }
   ],
   "source": [
    "animat.MCs[19].phi"
   ]
  },
  {
   "cell_type": "code",
   "execution_count": 82,
   "metadata": {},
   "outputs": [],
   "source": [
    "occ = (2,3)\n",
    "overlaps = [get_complex_purview_overlap(animat,trans,occ) for trans in animat.unique_transitions]"
   ]
  },
  {
   "cell_type": "code",
   "execution_count": 83,
   "metadata": {},
   "outputs": [
    {
     "data": {
      "text/plain": [
       "[0.25,\n",
       " 0.5,\n",
       " 0.5,\n",
       " 0.25,\n",
       " 0.5,\n",
       " 0.5,\n",
       " 0.5,\n",
       " 0,\n",
       " 0.25,\n",
       " 0.25,\n",
       " 0.25,\n",
       " 0,\n",
       " 0.25,\n",
       " 0.25,\n",
       " 0.5,\n",
       " 0.5,\n",
       " 0.5]"
      ]
     },
     "execution_count": 83,
     "metadata": {},
     "output_type": "execute_result"
    }
   ],
   "source": [
    "overlaps"
   ]
  },
  {
   "cell_type": "code",
   "execution_count": 84,
   "metadata": {},
   "outputs": [
    {
     "data": {
      "text/plain": [
       "(0, 2, 4)"
      ]
     },
     "execution_count": 84,
     "metadata": {},
     "output_type": "execute_result"
    }
   ],
   "source": [
    "get_union_of_causes(animat,animat.unique_transitions[0],(2,3))"
   ]
  },
  {
   "cell_type": "code",
   "execution_count": 85,
   "metadata": {},
   "outputs": [],
   "source": [
    "ba = np.vstack((animat.brain_activity,animat.brain_activity))"
   ]
  },
  {
   "cell_type": "code",
   "execution_count": 86,
   "metadata": {},
   "outputs": [],
   "source": [
    "t = animat.unique_transitions[0]"
   ]
  },
  {
   "cell_type": "code",
   "execution_count": 87,
   "metadata": {},
   "outputs": [
    {
     "data": {
      "text/plain": [
       "0"
      ]
     },
     "execution_count": 87,
     "metadata": {},
     "output_type": "execute_result"
    }
   ],
   "source": [
    "animat.unique_transitions.index(t)"
   ]
  },
  {
   "cell_type": "code",
   "execution_count": 88,
   "metadata": {},
   "outputs": [
    {
     "data": {
      "text/plain": [
       "array([[ 0.,  1.,  1.,  0.,  1.,  1.],\n",
       "       [ 0.,  0.,  0.,  0.,  0.,  0.],\n",
       "       [ 0.,  0.,  1.,  1.,  1.,  1.],\n",
       "       [ 0., -0., -1., -1., -1., -0.],\n",
       "       [ 0.,  1.,  1.,  1.,  1.,  1.],\n",
       "       [ 0.,  0.,  0.,  0.,  1.,  1.]])"
      ]
     },
     "execution_count": 88,
     "metadata": {},
     "output_type": "execute_result"
    }
   ],
   "source": [
    "cm"
   ]
  },
  {
   "cell_type": "code",
   "execution_count": 89,
   "metadata": {},
   "outputs": [],
   "source": [
    "\n",
    "with open('animat.pkl', 'wb') as f:\n",
    "    pickle.dump(animat, f, pickle.HIGHEST_PROTOCOL)"
   ]
  },
  {
   "cell_type": "code",
   "execution_count": 90,
   "metadata": {},
   "outputs": [],
   "source": [
    "\n",
    "with open('animat.pkl', 'rb') as f:\n",
    "    animat = pickle.load(f)"
   ]
  },
  {
   "cell_type": "code",
   "execution_count": 91,
   "metadata": {},
   "outputs": [],
   "source": [
    "overlaps = [get_complex_purview_overlap(animat,trans,'MC') for trans in animat.unique_transitions] "
   ]
  },
  {
   "cell_type": "code",
   "execution_count": 92,
   "metadata": {},
   "outputs": [
    {
     "data": {
      "text/plain": [
       "[0.25,\n",
       " 0.5,\n",
       " 0.5,\n",
       " 0.25,\n",
       " 0.5,\n",
       " 0.5,\n",
       " 0.5,\n",
       " 0,\n",
       " 0.25,\n",
       " 0.25,\n",
       " 0.25,\n",
       " 0,\n",
       " 0.25,\n",
       " 0.25,\n",
       " 0.5,\n",
       " 0.5,\n",
       " 0.5]"
      ]
     },
     "execution_count": 92,
     "metadata": {},
     "output_type": "execute_result"
    }
   ],
   "source": [
    "overlaps"
   ]
  },
  {
   "cell_type": "code",
   "execution_count": null,
   "metadata": {},
   "outputs": [],
   "source": [
    "import json\n",
    "\n",
    "with open('/Users/bjornjuel/Downloads/network.json') as json_file:\n",
    "    data = json.load(json_file)\n",
    "\n",
    "\n",
    "pyphi.network.Network.from_json(data)"
   ]
  },
  {
   "cell_type": "code",
   "execution_count": null,
   "metadata": {},
   "outputs": [],
   "source": [
    "tpm = data['tpm']"
   ]
  },
  {
   "cell_type": "code",
   "execution_count": null,
   "metadata": {},
   "outputs": [],
   "source": [
    "pyphi.convert.state_by_node2state_by_state(tpm)"
   ]
  },
  {
   "cell_type": "code",
   "execution_count": null,
   "metadata": {},
   "outputs": [],
   "source": [
    "net = pyphi.Network(tpm,node_labels=['A','B','C'])\n",
    "state = data['state']"
   ]
  },
  {
   "cell_type": "code",
   "execution_count": null,
   "metadata": {},
   "outputs": [],
   "source": [
    "sia = pyphi.compute.complexes(net,state)\n",
    "len(sia)\n",
    "sia[1]"
   ]
  },
  {
   "cell_type": "code",
   "execution_count": null,
   "metadata": {},
   "outputs": [],
   "source": [
    "sub = pyphi.subsystem.Subsystem(net,state,nodes=(0,1,))\n",
    "sub.tpm"
   ]
  },
  {
   "cell_type": "code",
   "execution_count": null,
   "metadata": {},
   "outputs": [],
   "source": [
    "pyphi.convert.state_by_node2state_by_state(net.tpm)"
   ]
  },
  {
   "cell_type": "code",
   "execution_count": null,
   "metadata": {},
   "outputs": [],
   "source": []
  },
  {
   "cell_type": "code",
   "execution_count": null,
   "metadata": {},
   "outputs": [],
   "source": [
    "def score_from_fitness(fitness):\n",
    "    return math.exp(fitness*5)-1"
   ]
  },
  {
   "cell_type": "code",
   "execution_count": null,
   "metadata": {},
   "outputs": [],
   "source": [
    "a = [score_from_fitness(a) for a in np.linspace(0,1,101)]\n",
    "plt.plot(a)"
   ]
  },
  {
   "cell_type": "code",
   "execution_count": null,
   "metadata": {},
   "outputs": [],
   "source": [
    "score_from_fitness(1)"
   ]
  },
  {
   "cell_type": "code",
   "execution_count": null,
   "metadata": {},
   "outputs": [],
   "source": [
    "def num2state2(num,n_nodes):\n",
    "    '''\n",
    "    Function description\n",
    "        Inputs:\n",
    "            inputs:\n",
    "        Outputs:\n",
    "            outputs:\n",
    "    '''\n",
    "\n",
    "    number = '{0:0' + str(n_nodes) + 'b}'\n",
    "    state = number.format(num)\n",
    "    state = [int(i) for i in state]\n",
    "\n",
    "    # returns the state\n",
    "    return state"
   ]
  },
  {
   "cell_type": "code",
   "execution_count": null,
   "metadata": {},
   "outputs": [],
   "source": [
    "num2state(9,8)"
   ]
  },
  {
   "cell_type": "code",
   "execution_count": null,
   "metadata": {},
   "outputs": [],
   "source": [
    "state2num(tuple([1, 0, 0, 1, 0, 0, 0, 0]))"
   ]
  },
  {
   "cell_type": "code",
   "execution_count": null,
   "metadata": {},
   "outputs": [],
   "source": [
    "a.reverse()\n",
    "print(a)"
   ]
  },
  {
   "cell_type": "code",
   "execution_count": null,
   "metadata": {},
   "outputs": [],
   "source": [
    "# Operating System List\n",
    "os = ['Windows', 'macOS', 'Linux']\n",
    "print('Original List:', os)\n",
    "\n",
    "# List Reverse\n",
    "os.reverse()\n",
    "\n",
    "# updated list\n",
    "print('Updated List:', os)"
   ]
  },
  {
   "cell_type": "code",
   "execution_count": 104,
   "metadata": {},
   "outputs": [],
   "source": [
    "def count_repetations(l):\n",
    "    count = 0\n",
    "    for i in range(1,len(l)):\n",
    "        if l[i] == l[i-1]:\n",
    "            count += 1\n",
    "            \n",
    "    return count"
   ]
  },
  {
   "cell_type": "code",
   "execution_count": 134,
   "metadata": {},
   "outputs": [
    {
     "data": {
      "image/png": "[encoded data removed]",
      "text/plain": [
       "<Figure size 432x288 with 1 Axes>"
      ]
     },
     "metadata": {
      "needs_background": "light"
     },
     "output_type": "display_data"
    }
   ],
   "source": [
    "origlist = [i%4 for i in range(100)]\n",
    "repetitions = []\n",
    "for i in range(100000):\n",
    "    np.random.shuffle(origlist)\n",
    "    repetitions.append(count_repetations(origlist))\n",
    "    \n",
    "plt.hist(repetitions,bins=list(range(50)))\n",
    "plt.title('mean: {}, std: {}'.format(np.mean(repetitions),np.std(repetitions)))\n",
    "plt.xlabel('number of repeats (meta)')\n",
    "plt.savefig('expected_repetitions.pdf')"
   ]
  },
  {
   "cell_type": "code",
   "execution_count": 131,
   "metadata": {
    "scrolled": true
   },
   "outputs": [
    {
     "data": {
      "text/plain": [
       "Text(0.5, 1.0, 'mean: 23.9905, std: 4.2850682316621285')"
      ]
     },
     "execution_count": 131,
     "metadata": {},
     "output_type": "execute_result"
    },
    {
     "data": {
      "image/png": "[encoded data removed]",
      "text/plain": [
       "<Figure size 432x288 with 1 Axes>"
      ]
     },
     "metadata": {
      "needs_background": "light"
     },
     "output_type": "display_data"
    }
   ],
   "source": []
  },
  {
   "cell_type": "code",
   "execution_count": 110,
   "metadata": {},
   "outputs": [],
   "source": [
    "a"
   ]
  },
  {
   "cell_type": "code",
   "execution_count": null,
   "metadata": {},
   "outputs": [],
   "source": []
  }
 ],
 "metadata": {
  "kernelspec": {
   "display_name": "Python 3",
   "language": "python",
   "name": "python3"
  },
  "language_info": {
   "codemirror_mode": {
    "name": "ipython",
    "version": 3
   },
   "file_extension": ".py",
   "mimetype": "text/x-python",
   "name": "python",
   "nbconvert_exporter": "python",
   "pygments_lexer": "ipython3",
   "version": "3.7.4"
  }
 },
 "nbformat": 4,
 "nbformat_minor": 2
}
