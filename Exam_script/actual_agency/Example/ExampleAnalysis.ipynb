{
 "cells": [
  {
   "cell_type": "code",
   "execution_count": 1,
   "metadata": {},
   "outputs": [],
   "source": [
    "import matplotlib.pyplot as plt\n",
    "import matplotlib.colors as colors\n",
    "import numpy as np\n",
    "import random\n",
    "from ipywidgets import interact, interact_manual\n",
    "import ipywidgets as widgets\n",
    "from IPython import display\n",
    "import time\n",
    "from pathlib import Path\n",
    "import pandas as pd\n",
    "import os\n",
    "import copy\n",
    "import networkx as nx\n",
    "import pickle\n",
    "import sys\n",
    "from scipy import stats\n",
    "%matplotlib inline"
   ]
  },
  {
   "cell_type": "code",
   "execution_count": 2,
   "metadata": {},
   "outputs": [],
   "source": [
    "# Change directory to where packages are stored\n",
    "os.chdir(\"..\")"
   ]
  },
  {
   "cell_type": "code",
   "execution_count": 3,
   "metadata": {
    "scrolled": true
   },
   "outputs": [
    {
     "name": "stdout",
     "output_type": "stream",
     "text": [
      "\n",
      "Welcome to PyPhi!\n",
      "\n",
      "If you use PyPhi in your research, please cite the paper:\n",
      "\n",
      "  Mayner WGP, Marshall W, Albantakis L, Findlay G, Marchman R, Tononi G.\n",
      "  (2018). PyPhi: A toolbox for integrated information theory.\n",
      "  PLOS Computational Biology 14(7): e1006343.\n",
      "  https://doi.org/10.1371/journal.pcbi.1006343\n",
      "\n",
      "Documentation is available online (or with the built-in `help()` function):\n",
      "  https://pyphi.readthedocs.io\n",
      "\n",
      "To report issues, please use the issue tracker on the GitHub repository:\n",
      "  https://github.com/wmayner/pyphi\n",
      "\n",
      "For general discussion, you are welcome to join the pyphi-users group:\n",
      "  https://groups.google.com/forum/#!forum/pyphi-users\n",
      "\n",
      "To suppress this message, either:\n",
      "  - Set `WELCOME_OFF: true` in your `pyphi_config.yml` file, or\n",
      "  - Set the environment variable PYPHI_WELCOME_OFF to any value in your shell:\n",
      "        export PYPHI_WELCOME_OFF='yes'\n",
      "\n"
     ]
    }
   ],
   "source": [
    "# and import packages\n",
    "from pyanimats import *\n",
    "from pyTPM import *\n",
    "import actual_agency as agency\n",
    "import pyphi\n",
    "from pyphi import actual, config, Direction\n",
    "\n",
    "pyphi.config.VALIDATE_SUBSYSTEM_STATES = False\n",
    "pyphi.config.PARTITION_TYPE = 'TRI'"
   ]
  },
  {
   "cell_type": "code",
   "execution_count": 4,
   "metadata": {
    "scrolled": true
   },
   "outputs": [],
   "source": [
    "# Change directory back to Example directory\n",
    "os.chdir(\"Example\")"
   ]
  },
  {
   "cell_type": "code",
   "execution_count": 5,
   "metadata": {},
   "outputs": [],
   "source": [
    "%load_ext autoreload\n",
    "%autoreload 2\n",
    "%aimport pyTPM, pyanimats, actual_agency"
   ]
  },
  {
   "cell_type": "markdown",
   "metadata": {},
   "source": [
    "# Lets inspect the fitness of the animats"
   ]
  },
  {
   "cell_type": "code",
   "execution_count": 6,
   "metadata": {},
   "outputs": [],
   "source": [
    "# defining some parameters to use \n",
    "generations = 1000\n",
    "n_agents = int(generations/500.+1)\n",
    "n_runs = 5\n",
    "n_trials = 64\n",
    "\n",
    "run = 0\n",
    "agent = 2\n",
    "trial = 5\n",
    "transition = 10"
   ]
  },
  {
   "cell_type": "code",
   "execution_count": 7,
   "metadata": {},
   "outputs": [],
   "source": [
    "# Get Line-of-descent (LOD) data from MABE output\n",
    "with open('LOD_data.pkl','rb') as f:\n",
    "    LOD_data = pickle.load(f)"
   ]
  },
  {
   "cell_type": "code",
   "execution_count": 8,
   "metadata": {},
   "outputs": [
    {
     "name": "stdout",
     "output_type": "stream",
     "text": [
      "/Users/bjornjuel/projects/actual_agency_fork/Example\n"
     ]
    }
   ],
   "source": [
    "cwd = os.getcwd()  # Get the current working directory (cwd)\n",
    "files = os.listdir(cwd)  # Get all the files in that directory\n",
    "print(cwd)"
   ]
  },
  {
   "cell_type": "code",
   "execution_count": 9,
   "metadata": {},
   "outputs": [
    {
     "data": {
      "text/html": [
       "<div>\n",
       "<style scoped>\n",
       "    .dataframe tbody tr th:only-of-type {\n",
       "        vertical-align: middle;\n",
       "    }\n",
       "\n",
       "    .dataframe tbody tr th {\n",
       "        vertical-align: top;\n",
       "    }\n",
       "\n",
       "    .dataframe thead th {\n",
       "        text-align: right;\n",
       "    }\n",
       "</style>\n",
       "<table border=\"1\" class=\"dataframe\">\n",
       "  <thead>\n",
       "    <tr style=\"text-align: right;\">\n",
       "      <th></th>\n",
       "      <th>update</th>\n",
       "      <th>timeToCoalescence</th>\n",
       "      <th>ID</th>\n",
       "      <th>alive</th>\n",
       "      <th>correct_AVE</th>\n",
       "      <th>correct_LIST</th>\n",
       "      <th>genomeLength</th>\n",
       "      <th>incorrect_AVE</th>\n",
       "      <th>incorrect_LIST</th>\n",
       "      <th>markovBrainDeterministicGates</th>\n",
       "      <th>markovBrainGates</th>\n",
       "      <th>markovBrain_nextNodesConnections_AVE</th>\n",
       "      <th>markovBrain_nextNodesConnections_LIST</th>\n",
       "      <th>markovBrain_nodesConnections_AVE</th>\n",
       "      <th>markovBrain_nodesConnections_LIST</th>\n",
       "      <th>optimizeValue</th>\n",
       "      <th>score_AVE</th>\n",
       "      <th>score_LIST</th>\n",
       "      <th>timeOfBirth</th>\n",
       "    </tr>\n",
       "  </thead>\n",
       "  <tbody>\n",
       "    <tr>\n",
       "      <th>0</th>\n",
       "      <td>0</td>\n",
       "      <td>0</td>\n",
       "      <td>23</td>\n",
       "      <td>1</td>\n",
       "      <td>31.0</td>\n",
       "      <td>31</td>\n",
       "      <td>5000</td>\n",
       "      <td>33.0</td>\n",
       "      <td>33</td>\n",
       "      <td>2</td>\n",
       "      <td>2</td>\n",
       "      <td>0.625</td>\n",
       "      <td>0,0,1,1,0,2,0,1</td>\n",
       "      <td>0.625</td>\n",
       "      <td>1,0,1,0,0,0,1,2</td>\n",
       "      <td>0.907029</td>\n",
       "      <td>0.907029</td>\n",
       "      <td>0.907029</td>\n",
       "      <td>-1</td>\n",
       "    </tr>\n",
       "    <tr>\n",
       "      <th>1</th>\n",
       "      <td>500</td>\n",
       "      <td>0</td>\n",
       "      <td>50012</td>\n",
       "      <td>1</td>\n",
       "      <td>49.0</td>\n",
       "      <td>49</td>\n",
       "      <td>14509</td>\n",
       "      <td>15.0</td>\n",
       "      <td>15</td>\n",
       "      <td>3</td>\n",
       "      <td>3</td>\n",
       "      <td>1.125</td>\n",
       "      <td>0,0,4,1,0,1,1,2</td>\n",
       "      <td>1.375</td>\n",
       "      <td>3,2,1,1,0,0,2,2</td>\n",
       "      <td>5.253348</td>\n",
       "      <td>5.253348</td>\n",
       "      <td>5.253348</td>\n",
       "      <td>499</td>\n",
       "    </tr>\n",
       "    <tr>\n",
       "      <th>2</th>\n",
       "      <td>1000</td>\n",
       "      <td>135</td>\n",
       "      <td>100042</td>\n",
       "      <td>1</td>\n",
       "      <td>49.0</td>\n",
       "      <td>49</td>\n",
       "      <td>17675</td>\n",
       "      <td>15.0</td>\n",
       "      <td>15</td>\n",
       "      <td>4</td>\n",
       "      <td>4</td>\n",
       "      <td>1.250</td>\n",
       "      <td>0,2,2,5,0,0,0,1</td>\n",
       "      <td>1.375</td>\n",
       "      <td>3,1,0,0,2,2,0,3</td>\n",
       "      <td>5.253348</td>\n",
       "      <td>5.253348</td>\n",
       "      <td>5.253348</td>\n",
       "      <td>999</td>\n",
       "    </tr>\n",
       "  </tbody>\n",
       "</table>\n",
       "</div>"
      ],
      "text/plain": [
       "   update  timeToCoalescence      ID  alive  correct_AVE  correct_LIST  \\\n",
       "0       0                  0      23      1         31.0            31   \n",
       "1     500                  0   50012      1         49.0            49   \n",
       "2    1000                135  100042      1         49.0            49   \n",
       "\n",
       "   genomeLength  incorrect_AVE  incorrect_LIST  markovBrainDeterministicGates  \\\n",
       "0          5000           33.0              33                              2   \n",
       "1         14509           15.0              15                              3   \n",
       "2         17675           15.0              15                              4   \n",
       "\n",
       "   markovBrainGates  markovBrain_nextNodesConnections_AVE  \\\n",
       "0                 2                                 0.625   \n",
       "1                 3                                 1.125   \n",
       "2                 4                                 1.250   \n",
       "\n",
       "  markovBrain_nextNodesConnections_LIST  markovBrain_nodesConnections_AVE  \\\n",
       "0                       0,0,1,1,0,2,0,1                             0.625   \n",
       "1                       0,0,4,1,0,1,1,2                             1.375   \n",
       "2                       0,2,2,5,0,0,0,1                             1.375   \n",
       "\n",
       "  markovBrain_nodesConnections_LIST  optimizeValue  score_AVE  score_LIST  \\\n",
       "0                   1,0,1,0,0,0,1,2       0.907029   0.907029    0.907029   \n",
       "1                   3,2,1,1,0,0,2,2       5.253348   5.253348    5.253348   \n",
       "2                   3,1,0,0,2,2,0,3       5.253348   5.253348    5.253348   \n",
       "\n",
       "   timeOfBirth  \n",
       "0           -1  \n",
       "1          499  \n",
       "2          999  "
      ]
     },
     "execution_count": 9,
     "metadata": {},
     "output_type": "execute_result"
    }
   ],
   "source": [
    "# inspect the Line-of-descent (LOD) data\n",
    "LOD_data[0]"
   ]
  },
  {
   "cell_type": "code",
   "execution_count": 10,
   "metadata": {},
   "outputs": [],
   "source": [
    "# add fitness to the LOD data structure\n",
    "\n",
    "for n in range(n_runs):\n",
    "    LOD_data[n]['fitness'] = (LOD_data[n]['correct_AVE']\n",
    "                               /(LOD_data[n]['correct_AVE']+LOD_data[n]['incorrect_AVE']))"
   ]
  },
  {
   "cell_type": "code",
   "execution_count": 11,
   "metadata": {},
   "outputs": [
    {
     "data": {
      "text/plain": [
       "0    0.484375\n",
       "1    0.765625\n",
       "2    0.765625\n",
       "Name: fitness, dtype: float64"
      ]
     },
     "execution_count": 11,
     "metadata": {},
     "output_type": "execute_result"
    }
   ],
   "source": [
    "# inspect the fitness of a specific LOD (run)\n",
    "heading = 'fitness'\n",
    "LOD_data[run][heading][:]\n"
   ]
  },
  {
   "cell_type": "code",
   "execution_count": 12,
   "metadata": {
    "scrolled": true
   },
   "outputs": [
    {
     "name": "stdout",
     "output_type": "stream",
     "text": [
      "[0.484375, 0.765625, 0.765625]\n",
      "[0.484375, 0.734375, 0.75]\n",
      "[0.453125, 0.765625, 0.765625]\n",
      "[0.484375, 0.765625, 0.765625]\n",
      "[0.484375, 0.796875, 0.796875]\n"
     ]
    },
    {
     "data": {
      "text/plain": [
       "[None, None, None, None, None]"
      ]
     },
     "execution_count": 12,
     "metadata": {},
     "output_type": "execute_result"
    }
   ],
   "source": [
    "# and write the values to a new list\n",
    "fitness_data = [[LOD_data[r][heading][i] for i in range(n_agents)] for r in range(n_runs)]\n",
    "[print(x) for x in fitness_data]"
   ]
  },
  {
   "cell_type": "markdown",
   "metadata": {},
   "source": [
    "# Now let's look at the genome data"
   ]
  },
  {
   "cell_type": "code",
   "execution_count": 13,
   "metadata": {},
   "outputs": [],
   "source": [
    "\n",
    "# Get the genome from our output\n",
    "with open('genome.pkl','rb') as f:\n",
    "    all_genomes = pickle.load(f)\n",
    "    \n"
   ]
  },
  {
   "cell_type": "code",
   "execution_count": 14,
   "metadata": {},
   "outputs": [
    {
     "data": {
      "text/html": [
       "<div>\n",
       "<style scoped>\n",
       "    .dataframe tbody tr th:only-of-type {\n",
       "        vertical-align: middle;\n",
       "    }\n",
       "\n",
       "    .dataframe tbody tr th {\n",
       "        vertical-align: top;\n",
       "    }\n",
       "\n",
       "    .dataframe thead th {\n",
       "        text-align: right;\n",
       "    }\n",
       "</style>\n",
       "<table border=\"1\" class=\"dataframe\">\n",
       "  <thead>\n",
       "    <tr style=\"text-align: right;\">\n",
       "      <th></th>\n",
       "      <th>GENOME_root::_genomeLength</th>\n",
       "      <th>GENOME_root::_sites</th>\n",
       "      <th>ID</th>\n",
       "      <th>update</th>\n",
       "    </tr>\n",
       "  </thead>\n",
       "  <tbody>\n",
       "    <tr>\n",
       "      <th>0</th>\n",
       "      <td>5000</td>\n",
       "      <td>243,244,3,151,30,196,44,49,56,51,247,225,38,20...</td>\n",
       "      <td>23</td>\n",
       "      <td>0</td>\n",
       "    </tr>\n",
       "    <tr>\n",
       "      <th>1</th>\n",
       "      <td>14509</td>\n",
       "      <td>177,173,3,141,30,89,243,113,161,175,242,164,19...</td>\n",
       "      <td>50012</td>\n",
       "      <td>500</td>\n",
       "    </tr>\n",
       "    <tr>\n",
       "      <th>2</th>\n",
       "      <td>17675</td>\n",
       "      <td>140,22,242,212,189,123,107,98,161,176,75,78,25...</td>\n",
       "      <td>100042</td>\n",
       "      <td>1000</td>\n",
       "    </tr>\n",
       "  </tbody>\n",
       "</table>\n",
       "</div>"
      ],
      "text/plain": [
       "   GENOME_root::_genomeLength  \\\n",
       "0                        5000   \n",
       "1                       14509   \n",
       "2                       17675   \n",
       "\n",
       "                                 GENOME_root::_sites      ID  update  \n",
       "0  243,244,3,151,30,196,44,49,56,51,247,225,38,20...      23       0  \n",
       "1  177,173,3,141,30,89,243,113,161,175,242,164,19...   50012     500  \n",
       "2  140,22,242,212,189,123,107,98,161,176,75,78,25...  100042    1000  "
      ]
     },
     "execution_count": 14,
     "metadata": {},
     "output_type": "execute_result"
    }
   ],
   "source": [
    "all_genomes[run]"
   ]
  },
  {
   "cell_type": "code",
   "execution_count": 15,
   "metadata": {},
   "outputs": [],
   "source": [
    "# we can pick the genome of one agent and parse it (make it readable for our scripts) \n",
    "genome = agency.get_genome(all_genomes, run, agent)\n",
    "\n",
    "# from the genome we can reconstruct the TPM (transition probability matrix) and CM (connectivity matrix)\n",
    "TPM, TPM_gates, cm = genome2TPM(genome, n_nodes=8, n_sensors=2, n_motors=2, gate_type='deterministic',states_convention='loli',remove_sensor_motor_effects=True)\n"
   ]
  },
  {
   "cell_type": "code",
   "execution_count": 16,
   "metadata": {},
   "outputs": [
    {
     "name": "stdout",
     "output_type": "stream",
     "text": [
      "[0.5 0.5 1.  1.  0.  0.  0.  0. ]\n",
      "[0.5 0.5 1.  0.  0.  0.  0.  0. ]\n",
      "[0.5 0.5 1.  1.  0.  0.  0.  1. ]\n",
      "[0.5 0.5 1.  0.  0.  0.  0.  1. ]\n",
      "[0.5 0.5 1.  1.  0.  0.  0.  0. ]\n",
      "[0.5 0.5 1.  0.  0.  0.  0.  0. ]\n",
      "[0.5 0.5 1.  1.  0.  0.  0.  1. ]\n",
      "[0.5 0.5 1.  0.  0.  0.  0.  1. ]\n",
      "[0.5 0.5 1.  1.  0.  0.  0.  0. ]\n",
      "[0.5 0.5 1.  0.  0.  0.  0.  0. ]\n",
      "[0.5 0.5 1.  1.  0.  0.  0.  1. ]\n",
      "[0.5 0.5 1.  0.  0.  0.  0.  1. ]\n",
      "[0.5 0.5 1.  1.  0.  0.  0.  0. ]\n",
      "[0.5 0.5 1.  0.  0.  0.  0.  0. ]\n",
      "[0.5 0.5 1.  1.  0.  0.  0.  1. ]\n",
      "[0.5 0.5 1.  0.  0.  0.  0.  1. ]\n",
      "[0.5 0.5 1.  1.  0.  0.  0.  0. ]\n",
      "[0.5 0.5 1.  1.  0.  0.  0.  0. ]\n",
      "[0.5 0.5 1.  1.  0.  0.  0.  1. ]\n",
      "[0.5 0.5 1.  1.  0.  0.  0.  1. ]\n",
      "[0.5 0.5 1.  1.  0.  0.  0.  0. ]\n",
      "[0.5 0.5 1.  1.  0.  0.  0.  0. ]\n",
      "[0.5 0.5 1.  1.  0.  0.  0.  1. ]\n",
      "[0.5 0.5 1.  1.  0.  0.  0.  1. ]\n",
      "[0.5 0.5 1.  1.  0.  0.  0.  0. ]\n",
      "[0.5 0.5 1.  1.  0.  0.  0.  0. ]\n",
      "[0.5 0.5 1.  1.  0.  0.  0.  1. ]\n",
      "[0.5 0.5 1.  1.  0.  0.  0.  1. ]\n",
      "[0.5 0.5 1.  1.  0.  0.  0.  0. ]\n",
      "[0.5 0.5 1.  1.  0.  0.  0.  0. ]\n",
      "[0.5 0.5 1.  1.  0.  0.  0.  1. ]\n",
      "[0.5 0.5 1.  1.  0.  0.  0.  1. ]\n",
      "[0.5 0.5 1.  1.  0.  0.  0.  0. ]\n",
      "[0.5 0.5 1.  1.  0.  0.  0.  1. ]\n",
      "[0.5 0.5 1.  1.  0.  0.  0.  0. ]\n",
      "[0.5 0.5 0.  1.  0.  0.  0.  1. ]\n",
      "[0.5 0.5 1.  1.  0.  0.  0.  0. ]\n",
      "[0.5 0.5 1.  1.  0.  0.  0.  1. ]\n",
      "[0.5 0.5 1.  1.  0.  0.  0.  0. ]\n",
      "[0.5 0.5 0.  1.  0.  0.  0.  1. ]\n",
      "[0.5 0.5 1.  1.  0.  0.  0.  0. ]\n",
      "[0.5 0.5 1.  1.  0.  0.  0.  1. ]\n",
      "[0.5 0.5 1.  1.  0.  0.  0.  0. ]\n",
      "[0.5 0.5 0.  1.  0.  0.  0.  1. ]\n",
      "[0.5 0.5 1.  1.  0.  0.  0.  0. ]\n",
      "[0.5 0.5 1.  1.  0.  0.  0.  1. ]\n",
      "[0.5 0.5 1.  1.  0.  0.  0.  0. ]\n",
      "[0.5 0.5 0.  1.  0.  0.  0.  1. ]\n",
      "[0.5 0.5 1.  1.  0.  0.  0.  0. ]\n",
      "[0.5 0.5 1.  1.  0.  0.  0.  1. ]\n",
      "[0.5 0.5 1.  1.  0.  0.  0.  0. ]\n",
      "[0.5 0.5 0.  1.  0.  0.  0.  1. ]\n",
      "[0.5 0.5 1.  1.  0.  0.  0.  0. ]\n",
      "[0.5 0.5 1.  1.  0.  0.  0.  1. ]\n",
      "[0.5 0.5 1.  1.  0.  0.  0.  0. ]\n",
      "[0.5 0.5 0.  1.  0.  0.  0.  1. ]\n",
      "[0.5 0.5 1.  1.  0.  0.  0.  0. ]\n",
      "[0.5 0.5 1.  1.  0.  0.  0.  1. ]\n",
      "[0.5 0.5 1.  1.  0.  0.  0.  0. ]\n",
      "[0.5 0.5 0.  1.  0.  0.  0.  1. ]\n",
      "[0.5 0.5 1.  1.  0.  0.  0.  0. ]\n",
      "[0.5 0.5 1.  1.  0.  0.  0.  1. ]\n",
      "[0.5 0.5 1.  1.  0.  0.  0.  0. ]\n",
      "[0.5 0.5 0.  1.  0.  0.  0.  1. ]\n",
      "[0.5 0.5 1.  1.  0.  0.  0.  0. ]\n",
      "[0.5 0.5 1.  0.  0.  0.  0.  0. ]\n",
      "[0.5 0.5 1.  1.  0.  0.  0.  1. ]\n",
      "[0.5 0.5 1.  0.  0.  0.  0.  1. ]\n",
      "[0.5 0.5 1.  1.  0.  0.  0.  0. ]\n",
      "[0.5 0.5 1.  0.  0.  0.  0.  0. ]\n",
      "[0.5 0.5 1.  1.  0.  0.  0.  1. ]\n",
      "[0.5 0.5 1.  0.  0.  0.  0.  1. ]\n",
      "[0.5 0.5 1.  1.  0.  0.  0.  0. ]\n",
      "[0.5 0.5 1.  0.  0.  0.  0.  0. ]\n",
      "[0.5 0.5 1.  1.  0.  0.  0.  1. ]\n",
      "[0.5 0.5 1.  0.  0.  0.  0.  1. ]\n",
      "[0.5 0.5 1.  1.  0.  0.  0.  0. ]\n",
      "[0.5 0.5 1.  0.  0.  0.  0.  0. ]\n",
      "[0.5 0.5 1.  1.  0.  0.  0.  1. ]\n",
      "[0.5 0.5 1.  0.  0.  0.  0.  1. ]\n",
      "[0.5 0.5 1.  1.  0.  0.  0.  0. ]\n",
      "[0.5 0.5 1.  1.  0.  0.  0.  0. ]\n",
      "[0.5 0.5 1.  1.  0.  0.  0.  1. ]\n",
      "[0.5 0.5 1.  1.  0.  0.  0.  1. ]\n",
      "[0.5 0.5 1.  1.  0.  0.  0.  0. ]\n",
      "[0.5 0.5 1.  1.  0.  0.  0.  0. ]\n",
      "[0.5 0.5 1.  1.  0.  0.  0.  1. ]\n",
      "[0.5 0.5 1.  1.  0.  0.  0.  1. ]\n",
      "[0.5 0.5 1.  1.  0.  0.  0.  0. ]\n",
      "[0.5 0.5 1.  1.  0.  0.  0.  0. ]\n",
      "[0.5 0.5 1.  1.  0.  0.  0.  1. ]\n",
      "[0.5 0.5 1.  1.  0.  0.  0.  1. ]\n",
      "[0.5 0.5 1.  1.  0.  0.  0.  0. ]\n",
      "[0.5 0.5 1.  1.  0.  0.  0.  0. ]\n",
      "[0.5 0.5 1.  1.  0.  0.  0.  1. ]\n",
      "[0.5 0.5 1.  1.  0.  0.  0.  1. ]\n",
      "[0.5 0.5 1.  1.  0.  0.  0.  0. ]\n",
      "[0.5 0.5 1.  1.  0.  0.  0.  1. ]\n",
      "[0.5 0.5 1.  1.  0.  0.  0.  0. ]\n",
      "[0.5 0.5 0.  1.  0.  0.  0.  1. ]\n",
      "[0.5 0.5 1.  1.  0.  0.  0.  0. ]\n",
      "[0.5 0.5 1.  1.  0.  0.  0.  1. ]\n",
      "[0.5 0.5 1.  1.  0.  0.  0.  0. ]\n",
      "[0.5 0.5 0.  1.  0.  0.  0.  1. ]\n",
      "[0.5 0.5 1.  1.  0.  0.  0.  0. ]\n",
      "[0.5 0.5 1.  1.  0.  0.  0.  1. ]\n",
      "[0.5 0.5 1.  1.  0.  0.  0.  0. ]\n",
      "[0.5 0.5 0.  1.  0.  0.  0.  1. ]\n",
      "[0.5 0.5 1.  1.  0.  0.  0.  0. ]\n",
      "[0.5 0.5 1.  1.  0.  0.  0.  1. ]\n",
      "[0.5 0.5 1.  1.  0.  0.  0.  0. ]\n",
      "[0.5 0.5 0.  1.  0.  0.  0.  1. ]\n",
      "[0.5 0.5 1.  1.  0.  0.  0.  0. ]\n",
      "[0.5 0.5 1.  1.  0.  0.  0.  1. ]\n",
      "[0.5 0.5 1.  1.  0.  0.  0.  0. ]\n",
      "[0.5 0.5 0.  1.  0.  0.  0.  1. ]\n",
      "[0.5 0.5 1.  1.  0.  0.  0.  0. ]\n",
      "[0.5 0.5 1.  1.  0.  0.  0.  1. ]\n",
      "[0.5 0.5 1.  1.  0.  0.  0.  0. ]\n",
      "[0.5 0.5 0.  1.  0.  0.  0.  1. ]\n",
      "[0.5 0.5 1.  1.  0.  0.  0.  0. ]\n",
      "[0.5 0.5 1.  1.  0.  0.  0.  1. ]\n",
      "[0.5 0.5 1.  1.  0.  0.  0.  0. ]\n",
      "[0.5 0.5 0.  1.  0.  0.  0.  1. ]\n",
      "[0.5 0.5 1.  1.  0.  0.  0.  0. ]\n",
      "[0.5 0.5 1.  1.  0.  0.  0.  1. ]\n",
      "[0.5 0.5 1.  1.  0.  0.  0.  0. ]\n",
      "[0.5 0.5 0.  1.  0.  0.  0.  1. ]\n",
      "[0.5 0.5 0.  1.  0.  0.  0.  1. ]\n",
      "[0.5 0.5 1.  1.  0.  0.  0.  1. ]\n",
      "[0.5 0.5 1.  1.  0.  0.  0.  1. ]\n",
      "[0.5 0.5 1.  1.  0.  0.  0.  1. ]\n",
      "[0.5 0.5 0.  1.  0.  0.  0.  1. ]\n",
      "[0.5 0.5 1.  1.  0.  0.  0.  1. ]\n",
      "[0.5 0.5 1.  1.  0.  0.  0.  1. ]\n",
      "[0.5 0.5 1.  1.  0.  0.  0.  1. ]\n",
      "[0.5 0.5 0.  1.  0.  0.  0.  1. ]\n",
      "[0.5 0.5 1.  1.  0.  0.  0.  1. ]\n",
      "[0.5 0.5 1.  1.  0.  0.  0.  1. ]\n",
      "[0.5 0.5 1.  1.  0.  0.  0.  1. ]\n",
      "[0.5 0.5 0.  1.  0.  0.  0.  1. ]\n",
      "[0.5 0.5 1.  1.  0.  0.  0.  1. ]\n",
      "[0.5 0.5 1.  1.  0.  0.  0.  1. ]\n",
      "[0.5 0.5 1.  1.  0.  0.  0.  1. ]\n",
      "[0.5 0.5 0.  1.  0.  0.  0.  1. ]\n",
      "[0.5 0.5 1.  1.  0.  0.  0.  1. ]\n",
      "[0.5 0.5 1.  1.  0.  0.  0.  1. ]\n",
      "[0.5 0.5 1.  1.  0.  0.  0.  1. ]\n",
      "[0.5 0.5 0.  1.  0.  0.  0.  1. ]\n",
      "[0.5 0.5 1.  1.  0.  0.  0.  1. ]\n",
      "[0.5 0.5 1.  1.  0.  0.  0.  1. ]\n",
      "[0.5 0.5 1.  1.  0.  0.  0.  1. ]\n",
      "[0.5 0.5 0.  1.  0.  0.  0.  1. ]\n",
      "[0.5 0.5 1.  1.  0.  0.  0.  1. ]\n",
      "[0.5 0.5 1.  1.  0.  0.  0.  1. ]\n",
      "[0.5 0.5 1.  1.  0.  0.  0.  1. ]\n",
      "[0.5 0.5 0.  1.  0.  0.  0.  1. ]\n",
      "[0.5 0.5 1.  1.  0.  0.  0.  1. ]\n",
      "[0.5 0.5 1.  1.  0.  0.  0.  1. ]\n",
      "[0.5 0.5 1.  1.  0.  0.  0.  1. ]\n",
      "[0.5 0.5 0.  1.  0.  0.  0.  1. ]\n",
      "[0.5 0.5 1.  1.  0.  0.  0.  1. ]\n",
      "[0.5 0.5 1.  1.  0.  0.  0.  1. ]\n",
      "[0.5 0.5 1.  1.  0.  0.  0.  1. ]\n",
      "[0.5 0.5 0.  1.  0.  0.  0.  1. ]\n",
      "[0.5 0.5 1.  1.  0.  0.  0.  1. ]\n",
      "[0.5 0.5 1.  1.  0.  0.  0.  1. ]\n",
      "[0.5 0.5 1.  1.  0.  0.  0.  1. ]\n",
      "[0.5 0.5 0.  1.  0.  0.  0.  1. ]\n",
      "[0.5 0.5 1.  1.  0.  0.  0.  1. ]\n",
      "[0.5 0.5 1.  1.  0.  0.  0.  1. ]\n",
      "[0.5 0.5 1.  1.  0.  0.  0.  1. ]\n",
      "[0.5 0.5 0.  1.  0.  0.  0.  1. ]\n",
      "[0.5 0.5 1.  1.  0.  0.  0.  1. ]\n",
      "[0.5 0.5 1.  1.  0.  0.  0.  1. ]\n",
      "[0.5 0.5 1.  1.  0.  0.  0.  1. ]\n",
      "[0.5 0.5 0.  1.  0.  0.  0.  1. ]\n",
      "[0.5 0.5 1.  1.  0.  0.  0.  1. ]\n",
      "[0.5 0.5 1.  1.  0.  0.  0.  1. ]\n",
      "[0.5 0.5 1.  1.  0.  0.  0.  1. ]\n",
      "[0.5 0.5 0.  1.  0.  0.  0.  1. ]\n",
      "[0.5 0.5 1.  1.  0.  0.  0.  1. ]\n",
      "[0.5 0.5 1.  1.  0.  0.  0.  1. ]\n",
      "[0.5 0.5 1.  1.  0.  0.  0.  1. ]\n",
      "[0.5 0.5 0.  1.  0.  0.  0.  1. ]\n",
      "[0.5 0.5 1.  1.  0.  0.  0.  1. ]\n",
      "[0.5 0.5 1.  1.  0.  0.  0.  1. ]\n",
      "[0.5 0.5 1.  1.  0.  0.  0.  1. ]\n",
      "[0.5 0.5 0.  1.  0.  0.  0.  1. ]\n",
      "[0.5 0.5 1.  1.  0.  0.  0.  1. ]\n",
      "[0.5 0.5 1.  1.  0.  0.  0.  1. ]\n",
      "[0.5 0.5 1.  1.  0.  0.  0.  1. ]\n",
      "[0.5 0.5 0.  1.  0.  0.  0.  1. ]\n",
      "[0.5 0.5 1.  1.  0.  0.  0.  1. ]\n",
      "[0.5 0.5 1.  1.  0.  0.  0.  1. ]\n",
      "[0.5 0.5 1.  1.  0.  0.  0.  1. ]\n",
      "[0.5 0.5 0.  1.  0.  0.  0.  1. ]\n",
      "[0.5 0.5 1.  1.  0.  0.  0.  1. ]\n",
      "[0.5 0.5 1.  1.  0.  0.  0.  1. ]\n",
      "[0.5 0.5 1.  1.  0.  0.  0.  1. ]\n",
      "[0.5 0.5 0.  1.  0.  0.  0.  1. ]\n",
      "[0.5 0.5 1.  1.  0.  0.  0.  1. ]\n",
      "[0.5 0.5 1.  1.  0.  0.  0.  1. ]\n",
      "[0.5 0.5 1.  1.  0.  0.  0.  1. ]\n",
      "[0.5 0.5 0.  1.  0.  0.  0.  1. ]\n",
      "[0.5 0.5 1.  1.  0.  0.  0.  1. ]\n",
      "[0.5 0.5 1.  1.  0.  0.  0.  1. ]\n",
      "[0.5 0.5 1.  1.  0.  0.  0.  1. ]\n",
      "[0.5 0.5 0.  1.  0.  0.  0.  1. ]\n",
      "[0.5 0.5 1.  1.  0.  0.  0.  1. ]\n",
      "[0.5 0.5 1.  1.  0.  0.  0.  1. ]\n",
      "[0.5 0.5 1.  1.  0.  0.  0.  1. ]\n",
      "[0.5 0.5 0.  1.  0.  0.  0.  1. ]\n",
      "[0.5 0.5 1.  1.  0.  0.  0.  1. ]\n",
      "[0.5 0.5 1.  1.  0.  0.  0.  1. ]\n",
      "[0.5 0.5 1.  1.  0.  0.  0.  1. ]\n",
      "[0.5 0.5 0.  1.  0.  0.  0.  1. ]\n",
      "[0.5 0.5 1.  1.  0.  0.  0.  1. ]\n",
      "[0.5 0.5 1.  1.  0.  0.  0.  1. ]\n",
      "[0.5 0.5 1.  1.  0.  0.  0.  1. ]\n",
      "[0.5 0.5 0.  1.  0.  0.  0.  1. ]\n",
      "[0.5 0.5 1.  1.  0.  0.  0.  1. ]\n",
      "[0.5 0.5 1.  1.  0.  0.  0.  1. ]\n",
      "[0.5 0.5 1.  1.  0.  0.  0.  1. ]\n",
      "[0.5 0.5 0.  1.  0.  0.  0.  1. ]\n",
      "[0.5 0.5 1.  1.  0.  0.  0.  1. ]\n",
      "[0.5 0.5 1.  1.  0.  0.  0.  1. ]\n",
      "[0.5 0.5 1.  1.  0.  0.  0.  1. ]\n",
      "[0.5 0.5 0.  1.  0.  0.  0.  1. ]\n",
      "[0.5 0.5 1.  1.  0.  0.  0.  1. ]\n",
      "[0.5 0.5 1.  1.  0.  0.  0.  1. ]\n",
      "[0.5 0.5 1.  1.  0.  0.  0.  1. ]\n",
      "[0.5 0.5 0.  1.  0.  0.  0.  1. ]\n",
      "[0.5 0.5 1.  1.  0.  0.  0.  1. ]\n",
      "[0.5 0.5 1.  1.  0.  0.  0.  1. ]\n",
      "[0.5 0.5 1.  1.  0.  0.  0.  1. ]\n",
      "[0.5 0.5 0.  1.  0.  0.  0.  1. ]\n",
      "[0.5 0.5 1.  1.  0.  0.  0.  1. ]\n",
      "[0.5 0.5 1.  1.  0.  0.  0.  1. ]\n",
      "[0.5 0.5 1.  1.  0.  0.  0.  1. ]\n",
      "[0.5 0.5 0.  1.  0.  0.  0.  1. ]\n",
      "[0.5 0.5 1.  1.  0.  0.  0.  1. ]\n",
      "[0.5 0.5 1.  1.  0.  0.  0.  1. ]\n",
      "[0.5 0.5 1.  1.  0.  0.  0.  1. ]\n",
      "[0.5 0.5 0.  1.  0.  0.  0.  1. ]\n",
      "[0.5 0.5 1.  1.  0.  0.  0.  1. ]\n",
      "[0.5 0.5 1.  1.  0.  0.  0.  1. ]\n",
      "[0.5 0.5 1.  1.  0.  0.  0.  1. ]\n",
      "[0.5 0.5 0.  1.  0.  0.  0.  1. ]\n",
      "[0.5 0.5 1.  1.  0.  0.  0.  1. ]\n",
      "[0.5 0.5 1.  1.  0.  0.  0.  1. ]\n",
      "[0.5 0.5 1.  1.  0.  0.  0.  1. ]\n",
      "[0.5 0.5 0.  1.  0.  0.  0.  1. ]\n",
      "[0.5 0.5 1.  1.  0.  0.  0.  1. ]\n",
      "[0.5 0.5 1.  1.  0.  0.  0.  1. ]\n",
      "[0.5 0.5 1.  1.  0.  0.  0.  1. ]\n"
     ]
    },
    {
     "data": {
      "text/plain": [
       "[None,\n",
       " None,\n",
       " None,\n",
       " None,\n",
       " None,\n",
       " None,\n",
       " None,\n",
       " None,\n",
       " None,\n",
       " None,\n",
       " None,\n",
       " None,\n",
       " None,\n",
       " None,\n",
       " None,\n",
       " None,\n",
       " None,\n",
       " None,\n",
       " None,\n",
       " None,\n",
       " None,\n",
       " None,\n",
       " None,\n",
       " None,\n",
       " None,\n",
       " None,\n",
       " None,\n",
       " None,\n",
       " None,\n",
       " None,\n",
       " None,\n",
       " None,\n",
       " None,\n",
       " None,\n",
       " None,\n",
       " None,\n",
       " None,\n",
       " None,\n",
       " None,\n",
       " None,\n",
       " None,\n",
       " None,\n",
       " None,\n",
       " None,\n",
       " None,\n",
       " None,\n",
       " None,\n",
       " None,\n",
       " None,\n",
       " None,\n",
       " None,\n",
       " None,\n",
       " None,\n",
       " None,\n",
       " None,\n",
       " None,\n",
       " None,\n",
       " None,\n",
       " None,\n",
       " None,\n",
       " None,\n",
       " None,\n",
       " None,\n",
       " None,\n",
       " None,\n",
       " None,\n",
       " None,\n",
       " None,\n",
       " None,\n",
       " None,\n",
       " None,\n",
       " None,\n",
       " None,\n",
       " None,\n",
       " None,\n",
       " None,\n",
       " None,\n",
       " None,\n",
       " None,\n",
       " None,\n",
       " None,\n",
       " None,\n",
       " None,\n",
       " None,\n",
       " None,\n",
       " None,\n",
       " None,\n",
       " None,\n",
       " None,\n",
       " None,\n",
       " None,\n",
       " None,\n",
       " None,\n",
       " None,\n",
       " None,\n",
       " None,\n",
       " None,\n",
       " None,\n",
       " None,\n",
       " None,\n",
       " None,\n",
       " None,\n",
       " None,\n",
       " None,\n",
       " None,\n",
       " None,\n",
       " None,\n",
       " None,\n",
       " None,\n",
       " None,\n",
       " None,\n",
       " None,\n",
       " None,\n",
       " None,\n",
       " None,\n",
       " None,\n",
       " None,\n",
       " None,\n",
       " None,\n",
       " None,\n",
       " None,\n",
       " None,\n",
       " None,\n",
       " None,\n",
       " None,\n",
       " None,\n",
       " None,\n",
       " None,\n",
       " None,\n",
       " None,\n",
       " None,\n",
       " None,\n",
       " None,\n",
       " None,\n",
       " None,\n",
       " None,\n",
       " None,\n",
       " None,\n",
       " None,\n",
       " None,\n",
       " None,\n",
       " None,\n",
       " None,\n",
       " None,\n",
       " None,\n",
       " None,\n",
       " None,\n",
       " None,\n",
       " None,\n",
       " None,\n",
       " None,\n",
       " None,\n",
       " None,\n",
       " None,\n",
       " None,\n",
       " None,\n",
       " None,\n",
       " None,\n",
       " None,\n",
       " None,\n",
       " None,\n",
       " None,\n",
       " None,\n",
       " None,\n",
       " None,\n",
       " None,\n",
       " None,\n",
       " None,\n",
       " None,\n",
       " None,\n",
       " None,\n",
       " None,\n",
       " None,\n",
       " None,\n",
       " None,\n",
       " None,\n",
       " None,\n",
       " None,\n",
       " None,\n",
       " None,\n",
       " None,\n",
       " None,\n",
       " None,\n",
       " None,\n",
       " None,\n",
       " None,\n",
       " None,\n",
       " None,\n",
       " None,\n",
       " None,\n",
       " None,\n",
       " None,\n",
       " None,\n",
       " None,\n",
       " None,\n",
       " None,\n",
       " None,\n",
       " None,\n",
       " None,\n",
       " None,\n",
       " None,\n",
       " None,\n",
       " None,\n",
       " None,\n",
       " None,\n",
       " None,\n",
       " None,\n",
       " None,\n",
       " None,\n",
       " None,\n",
       " None,\n",
       " None,\n",
       " None,\n",
       " None,\n",
       " None,\n",
       " None,\n",
       " None,\n",
       " None,\n",
       " None,\n",
       " None,\n",
       " None,\n",
       " None,\n",
       " None,\n",
       " None,\n",
       " None,\n",
       " None,\n",
       " None,\n",
       " None,\n",
       " None,\n",
       " None,\n",
       " None,\n",
       " None,\n",
       " None,\n",
       " None,\n",
       " None,\n",
       " None,\n",
       " None,\n",
       " None,\n",
       " None,\n",
       " None,\n",
       " None,\n",
       " None,\n",
       " None,\n",
       " None,\n",
       " None,\n",
       " None,\n",
       " None,\n",
       " None,\n",
       " None,\n",
       " None,\n",
       " None,\n",
       " None,\n",
       " None,\n",
       " None,\n",
       " None,\n",
       " None]"
      ]
     },
     "execution_count": 16,
     "metadata": {},
     "output_type": "execute_result"
    }
   ],
   "source": [
    "# then we can inspect the TPM\n",
    "[print(x) for x in TPM] "
   ]
  },
  {
   "cell_type": "code",
   "execution_count": 17,
   "metadata": {
    "scrolled": true
   },
   "outputs": [
    {
     "data": {
      "text/plain": [
       "[{'type': 'deterministic',\n",
       "  'ins': array([4]),\n",
       "  'outs': array([1]),\n",
       "  'logic': [[1.0], [1.0]]},\n",
       " {'type': 'deterministic',\n",
       "  'ins': array([7, 0, 5, 1]),\n",
       "  'outs': array([2, 7]),\n",
       "  'logic': [[1.0, 0.0],\n",
       "   [0.0, 1.0],\n",
       "   [1.0, 0.0],\n",
       "   [1.0, 1.0],\n",
       "   [1.0, 0.0],\n",
       "   [0.0, 1.0],\n",
       "   [1.0, 1.0],\n",
       "   [1.0, 1.0],\n",
       "   [1.0, 1.0],\n",
       "   [1.0, 1.0],\n",
       "   [1.0, 1.0],\n",
       "   [1.0, 1.0],\n",
       "   [1.0, 0.0],\n",
       "   [1.0, 1.0],\n",
       "   [0.0, 1.0],\n",
       "   [1.0, 1.0]]},\n",
       " {'type': 'deterministic',\n",
       "  'ins': array([4, 0, 7]),\n",
       "  'outs': array([1, 3]),\n",
       "  'logic': [[1.0, 1.0],\n",
       "   [0.0, 1.0],\n",
       "   [1.0, 0.0],\n",
       "   [0.0, 1.0],\n",
       "   [1.0, 1.0],\n",
       "   [1.0, 1.0],\n",
       "   [1.0, 1.0],\n",
       "   [0.0, 1.0]]},\n",
       " {'type': 'deterministic',\n",
       "  'ins': array([5, 0, 7]),\n",
       "  'outs': array([3]),\n",
       "  'logic': [[1.0], [1.0], [0.0], [1.0], [1.0], [1.0], [1.0], [1.0]]}]"
      ]
     },
     "execution_count": 17,
     "metadata": {},
     "output_type": "execute_result"
    }
   ],
   "source": [
    "# the gate specific TPMS\n",
    "TPM_gates"
   ]
  },
  {
   "cell_type": "code",
   "execution_count": 18,
   "metadata": {},
   "outputs": [
    {
     "name": "stdout",
     "output_type": "stream",
     "text": [
      "[[0. 0. 1. 1. 0. 0. 0. 1.]\n",
      " [0. 0. 1. 0. 0. 0. 0. 1.]\n",
      " [0. 0. 0. 0. 0. 0. 0. 0.]\n",
      " [0. 0. 0. 0. 0. 0. 0. 0.]\n",
      " [0. 0. 0. 1. 0. 0. 0. 0.]\n",
      " [0. 0. 1. 1. 0. 0. 0. 1.]\n",
      " [0. 0. 0. 0. 0. 0. 0. 0.]\n",
      " [0. 0. 1. 1. 0. 0. 0. 1.]]\n"
     ]
    }
   ],
   "source": [
    "# and also the connectivity matrix (CM)\n",
    "print(cm)"
   ]
  },
  {
   "cell_type": "markdown",
   "metadata": {},
   "source": [
    "# Last part of the output is the activity pattern"
   ]
  },
  {
   "cell_type": "code",
   "execution_count": 19,
   "metadata": {},
   "outputs": [],
   "source": [
    "# First get the data from our MABE output\n",
    "with open('activity.pkl','rb') as f:\n",
    "    activity = pickle.load(f)\n",
    "    "
   ]
  },
  {
   "cell_type": "code",
   "execution_count": 20,
   "metadata": {
    "scrolled": true
   },
   "outputs": [
    {
     "name": "stdout",
     "output_type": "stream",
     "text": [
      "Creating activity matrix from MABE output...\n",
      "Creating activity matrix from MABE output...\n",
      "Creating activity matrix from MABE output...\n",
      "Creating activity matrix from MABE output...\n",
      "Creating activity matrix from MABE output...\n"
     ]
    }
   ],
   "source": [
    "# reformat the activity to a single list for each trial\n",
    "brain_activity = []\n",
    "for r in range(n_runs):\n",
    "    brain_activity.append(agency.getBrainActivity(activity[r], n_agents))"
   ]
  },
  {
   "cell_type": "code",
   "execution_count": 51,
   "metadata": {},
   "outputs": [
    {
     "name": "stderr",
     "output_type": "stream",
     "text": [
      "[autoreload of pyanimats failed: Traceback (most recent call last):\n",
      "  File \"/usr/local/lib/python3.7/site-packages/IPython/extensions/autoreload.py\", line 244, in check\n",
      "    superreload(m, reload, self.old_objects)\n",
      "  File \"/usr/local/lib/python3.7/site-packages/IPython/extensions/autoreload.py\", line 376, in superreload\n",
      "    module = reload(module)\n",
      "  File \"/usr/local/Cellar/python/3.7.4/Frameworks/Python.framework/Versions/3.7/lib/python3.7/imp.py\", line 314, in reload\n",
      "    return importlib.reload(module)\n",
      "  File \"/usr/local/Cellar/python/3.7.4/Frameworks/Python.framework/Versions/3.7/lib/python3.7/importlib/__init__.py\", line 168, in reload\n",
      "    raise ModuleNotFoundError(f\"spec not found for the module {name!r}\", name=name)\n",
      "ModuleNotFoundError: spec not found for the module 'pyanimats'\n",
      "]\n",
      "[autoreload of actual_agency failed: Traceback (most recent call last):\n",
      "  File \"/usr/local/lib/python3.7/site-packages/IPython/extensions/autoreload.py\", line 244, in check\n",
      "    superreload(m, reload, self.old_objects)\n",
      "  File \"/usr/local/lib/python3.7/site-packages/IPython/extensions/autoreload.py\", line 376, in superreload\n",
      "    module = reload(module)\n",
      "  File \"/usr/local/Cellar/python/3.7.4/Frameworks/Python.framework/Versions/3.7/lib/python3.7/imp.py\", line 314, in reload\n",
      "    return importlib.reload(module)\n",
      "  File \"/usr/local/Cellar/python/3.7.4/Frameworks/Python.framework/Versions/3.7/lib/python3.7/importlib/__init__.py\", line 168, in reload\n",
      "    raise ModuleNotFoundError(f\"spec not found for the module {name!r}\", name=name)\n",
      "ModuleNotFoundError: spec not found for the module 'actual_agency'\n",
      "]\n"
     ]
    },
    {
     "data": {
      "text/plain": [
       "3"
      ]
     },
     "execution_count": 51,
     "metadata": {},
     "output_type": "execute_result"
    }
   ],
   "source": [
    "len(brain_activity[0])"
   ]
  },
  {
   "cell_type": "code",
   "execution_count": 21,
   "metadata": {
    "scrolled": true
   },
   "outputs": [
    {
     "name": "stdout",
     "output_type": "stream",
     "text": [
      "[[0. 0. 0. 0. 0. 0. 0. 0.]\n",
      " [0. 0. 1. 1. 0. 0. 0. 0.]\n",
      " [0. 0. 1. 1. 0. 0. 0. 0.]\n",
      " [0. 0. 1. 1. 0. 0. 0. 0.]\n",
      " [0. 0. 1. 1. 0. 0. 0. 0.]\n",
      " [0. 0. 1. 1. 0. 0. 0. 0.]\n",
      " [0. 0. 1. 1. 0. 0. 0. 0.]\n",
      " [0. 0. 1. 1. 0. 0. 0. 0.]\n",
      " [0. 0. 1. 1. 0. 0. 0. 0.]\n",
      " [0. 1. 1. 1. 0. 0. 0. 0.]\n",
      " [0. 0. 1. 1. 0. 0. 0. 1.]\n",
      " [0. 0. 0. 1. 0. 0. 0. 1.]\n",
      " [0. 0. 0. 1. 0. 0. 0. 1.]\n",
      " [0. 0. 0. 1. 0. 0. 0. 1.]\n",
      " [0. 0. 0. 1. 0. 0. 0. 1.]\n",
      " [0. 0. 0. 1. 0. 0. 0. 1.]\n",
      " [0. 0. 0. 1. 0. 0. 0. 1.]\n",
      " [0. 0. 0. 1. 0. 0. 0. 1.]\n",
      " [0. 0. 0. 1. 0. 0. 0. 1.]\n",
      " [0. 0. 0. 1. 0. 0. 0. 1.]\n",
      " [0. 0. 0. 1. 0. 0. 0. 1.]\n",
      " [0. 0. 0. 1. 0. 0. 0. 1.]\n",
      " [0. 0. 0. 1. 0. 0. 0. 1.]\n",
      " [0. 0. 0. 1. 0. 0. 0. 1.]\n",
      " [0. 0. 0. 1. 0. 0. 0. 1.]\n",
      " [0. 0. 0. 1. 0. 0. 0. 1.]\n",
      " [0. 0. 0. 1. 0. 0. 0. 1.]\n",
      " [0. 0. 0. 1. 0. 0. 0. 1.]\n",
      " [0. 0. 0. 1. 0. 0. 0. 1.]\n",
      " [0. 0. 0. 1. 0. 0. 0. 1.]\n",
      " [0. 0. 0. 1. 0. 0. 0. 1.]\n",
      " [0. 0. 0. 1. 0. 0. 0. 1.]\n",
      " [0. 0. 0. 1. 0. 0. 0. 1.]\n",
      " [0. 0. 0. 1. 0. 0. 0. 1.]\n",
      " [0. 0. 0. 1. 0. 0. 0. 1.]]\n"
     ]
    }
   ],
   "source": [
    "# inspect activity for a given run, agent, and trial\n",
    "\n",
    "print(brain_activity[run][agent][trial])"
   ]
  },
  {
   "cell_type": "code",
   "execution_count": 22,
   "metadata": {},
   "outputs": [
    {
     "data": {
      "text/plain": [
       "<matplotlib.image.AxesImage at 0x128b3e590>"
      ]
     },
     "execution_count": 22,
     "metadata": {},
     "output_type": "execute_result"
    },
    {
     "data": {
      "image/png": "[encoded data removed]",
      "text/plain": [
       "<Figure size 720x720 with 4 Axes>"
      ]
     },
     "metadata": {
      "needs_background": "light"
     },
     "output_type": "display_data"
    }
   ],
   "source": [
    "# plotting activity of the wait'th trial of each trial type\n",
    "wait = 4\n",
    "\n",
    "plt.figure(figsize=(10,10))\n",
    "plt.subplot(1,4,1)\n",
    "plt.imshow(brain_activity[run][agent][0+wait])\n",
    "plt.subplot(1,4,2)\n",
    "plt.imshow(brain_activity[run][agent][16+wait])\n",
    "plt.subplot(1,4,3)\n",
    "plt.imshow(brain_activity[run][agent][32+wait])\n",
    "plt.subplot(1,4,4)\n",
    "plt.imshow(brain_activity[run][agent][48+wait])"
   ]
  },
  {
   "cell_type": "markdown",
   "metadata": {},
   "source": [
    "# The next step is doing some actual causation analysis"
   ]
  },
  {
   "cell_type": "code",
   "execution_count": 23,
   "metadata": {},
   "outputs": [
    {
     "name": "stdout",
     "output_type": "stream",
     "text": [
      "transition from [0. 0. 0. 0. 0. 0. 0. 1.] to [0. 0. 0. 1. 0. 0. 0. 1.]\n"
     ]
    }
   ],
   "source": [
    "# let's analyse the actual causes of the motor occurences for the animat in one trial\n",
    "\n",
    "# First we can inspect the occurrences\n",
    "X,Y = agency.get_occurrences(np.array(brain_activity[run][agent]),numSensors=2,numHidden=4,numMotors=2)\n",
    "print('transition from {} to {}'.format(X[trial][transition],Y[trial][transition]))"
   ]
  },
  {
   "cell_type": "code",
   "execution_count": 24,
   "metadata": {
    "scrolled": true
   },
   "outputs": [],
   "source": [
    "# to actually do the AC analysis we must first define a network for pyphi\n",
    "network = pyphi.network.Network(np.array(TPM), cm=np.array(cm), \n",
    "            node_labels=('S1','S2','M1','M2','H1','H2','H3','H4'), purview_cache=None)\n"
   ]
  },
  {
   "cell_type": "code",
   "execution_count": 25,
   "metadata": {},
   "outputs": [
    {
     "data": {
      "text/plain": [
       "array([[0.5, 0.5, 1. , ..., 0. , 0. , 0. ],\n",
       "       [0.5, 0.5, 1. , ..., 0. , 0. , 0. ],\n",
       "       [0.5, 0.5, 1. , ..., 0. , 0. , 1. ],\n",
       "       ...,\n",
       "       [0.5, 0.5, 1. , ..., 0. , 0. , 1. ],\n",
       "       [0.5, 0.5, 1. , ..., 0. , 0. , 1. ],\n",
       "       [0.5, 0.5, 1. , ..., 0. , 0. , 1. ]])"
      ]
     },
     "execution_count": 25,
     "metadata": {},
     "output_type": "execute_result"
    }
   ],
   "source": [
    "TPM"
   ]
  },
  {
   "cell_type": "code",
   "execution_count": 26,
   "metadata": {},
   "outputs": [
    {
     "data": {
      "text/plain": [
       "'1.2.0'"
      ]
     },
     "execution_count": 26,
     "metadata": {},
     "output_type": "execute_result"
    }
   ],
   "source": [
    "pyphi.__version__"
   ]
  },
  {
   "cell_type": "code",
   "execution_count": 27,
   "metadata": {},
   "outputs": [
    {
     "name": "stdout",
     "output_type": "stream",
     "text": [
      "\n",
      "   DirectedAccount (3 causal links)  \n",
      "*************************************\n",
      "Irreducible effects\n",
      "\n",
      "Irreducible causes\n",
      "α = 0.2996  [S1, S2, H2, H4] ◀━━ [M1]\n",
      "α = 0.0931  [S1, H1, H2, H4] ◀━━ [M2]\n",
      "α = 0.0857  [S1, H1, H4] ◀━━ [M1, M2]\n"
     ]
    }
   ],
   "source": [
    "# now we can run a script for calculating the direct causes of all motor occurrences for a given trial of an animat\n",
    "purview, alpha, motorstate, transitions, account = agency.AnalyzeTransitions(\n",
    "            network, brain_activity[run][agent][trial].astype(int), \n",
    "            cause_indices=[0,1,4,5,6,7], effect_indices=[2,3],\n",
    "            sensor_indices=[0,1], motor_indices=[2,3])\n",
    "print(account[0])"
   ]
  },
  {
   "cell_type": "code",
   "execution_count": 28,
   "metadata": {},
   "outputs": [],
   "source": [
    "# Or we can look in more detail at one specific transition (using pyphi native functions)\n",
    "run = 0\n",
    "agent = 2\n",
    "trial = 5\n",
    "transition = 10\n",
    "\n",
    "# start by loading the relevant genome and parsing the TPM\n",
    "genome = agency.get_genome(all_genomes, run, agent)\n",
    "TPM, TPM_gates, cm = genome2TPM(genome, n_nodes=8, n_sensors=2, n_motors=2, gate_type='deterministic',states_convention='loli',remove_sensor_motor_effects=True)\n",
    "\n",
    "# Then, we define the network for this animat\n",
    "network = pyphi.network.Network(np.array(TPM), cm=np.array(cm), \n",
    "            node_labels=('S1','S2','M1','M2','H1','H2','H3','H4'), purview_cache=None)\n",
    "\n",
    "# and pick out all transitions\n",
    "X,Y = agency.get_occurrences(np.array(brain_activity[run][agent]),numSensors=2,numHidden=4,numMotors=2)\n",
    "\n",
    "# Now we can calculate the causal account for a given transition\n",
    "before_state = X[trial][transition].astype(int) \n",
    "after_state = Y[trial][transition].astype(int)\n",
    "cause_indices = tuple([0,1,4,5,6,7]) \n",
    "effect_indices = tuple([2,3])\n",
    "\n",
    "t = pyphi.actual.Transition(network, before_state, after_state, cause_indices, effect_indices)\n",
    "account = pyphi.actual.account(t,direction=pyphi.Direction.CAUSE)"
   ]
  },
  {
   "cell_type": "code",
   "execution_count": 29,
   "metadata": {
    "scrolled": true
   },
   "outputs": [
    {
     "data": {
      "text/plain": [
       "\n",
       "     DirectedAccount (3 causal links)    \n",
       "*****************************************\n",
       "Irreducible effects\n",
       "\n",
       "Irreducible causes\n",
       "α = 2.415  [S1, S2, H2, H4] ◀━━ [M1]\n",
       "α = 0.0931  [S1, H1, H2, H4] ◀━━ [M2]\n",
       "α = 0.1255  [S1, S2, H1, H4] ◀━━ [M1, M2]"
      ]
     },
     "execution_count": 29,
     "metadata": {},
     "output_type": "execute_result"
    }
   ],
   "source": [
    "account"
   ]
  },
  {
   "cell_type": "code",
   "execution_count": 30,
   "metadata": {},
   "outputs": [
    {
     "data": {
      "text/plain": [
       "(CausalLink\n",
       "   α = 2.415  [S1, S2, H2, H4] ◀━━ [M1], CausalLink\n",
       "   α = 0.0931  [S1, H1, H2, H4] ◀━━ [M2], CausalLink\n",
       "   α = 0.1255  [S1, S2, H1, H4] ◀━━ [M1, M2])"
      ]
     },
     "execution_count": 30,
     "metadata": {},
     "output_type": "execute_result"
    }
   ],
   "source": [
    "account.causal_links"
   ]
  },
  {
   "cell_type": "code",
   "execution_count": 31,
   "metadata": {},
   "outputs": [
    {
     "name": "stdout",
     "output_type": "stream",
     "text": [
      "The union of the purviews is : \n",
      "['S1', 'S2', 'H1', 'H2', 'H4']\n"
     ]
    }
   ],
   "source": [
    "# Now lets find the cause of the cause of the motor activity in our original transition of interest\n",
    "\n",
    "# first get the union of the purviews in the above transition\n",
    "union_purview = []\n",
    "for i in range(len(account.causal_links)-1):\n",
    "    union_purview.extend(list(account.causal_links[i+1].purview))\n",
    "\n",
    "\n",
    "union_purview=tuple(set(union_purview))\n",
    "print('The union of the purviews is : ')\n",
    "print([network.node_labels[i] for i in union_purview])"
   ]
  },
  {
   "cell_type": "code",
   "execution_count": 32,
   "metadata": {},
   "outputs": [],
   "source": [
    "# now we calculate the causal account of the occurrence specified by the nodes in this purview in t-1\n",
    "# Now we can calculate the causal account for a given transition\n",
    "before_state = X[trial][transition-1].astype(int) \n",
    "after_state = Y[trial][transition-1].astype(int)\n",
    "cause_indices = tuple([0,1,4,5,6,7]) \n",
    "effect_indices = tuple(union_purview)\n",
    "\n",
    "t_prev = pyphi.actual.Transition(network, before_state, after_state, cause_indices, effect_indices)\n",
    "account_prev = pyphi.actual.account(t_prev,direction=pyphi.Direction.CAUSE)"
   ]
  },
  {
   "cell_type": "code",
   "execution_count": 33,
   "metadata": {},
   "outputs": [
    {
     "data": {
      "text/plain": [
       "\n",
       "  DirectedAccount (1 causal link)   \n",
       "************************************\n",
       "Irreducible effects\n",
       "\n",
       "Irreducible causes\n",
       "α = 0.415  [S1, S2, H2, H4] ◀━━ [H4]"
      ]
     },
     "execution_count": 33,
     "metadata": {},
     "output_type": "execute_result"
    }
   ],
   "source": [
    "account_prev"
   ]
  },
  {
   "cell_type": "markdown",
   "metadata": {},
   "source": [
    "This shows that the cause of the cause (at time t-2) of the motor activity at t is irreducible. However, none of the higher order occurrences have irreducible causes. \n",
    "\n",
    "Therefore, the causal chain of the motor activity at t stops has not yet reached the environment after two timesteps. The causal chain (causes of causes of causes ...) might be longer, and to find them you could repeat the process outlined in the cells above."
   ]
  },
  {
   "cell_type": "code",
   "execution_count": 34,
   "metadata": {},
   "outputs": [],
   "source": [
    "# We can now also calulate other related measures that might be of interest.\n",
    "# For example, Phi for the complex (if it exists!) from IIT\n",
    "\n",
    "state = tuple(np.array(brain_activity[run][agent][trial][transition]).astype(int))\n",
    "subsystem = pyphi.Subsystem(network, state)\n",
    "Phi = pyphi.compute.phi(subsystem)"
   ]
  },
  {
   "cell_type": "code",
   "execution_count": 35,
   "metadata": {},
   "outputs": [
    {
     "name": "stdout",
     "output_type": "stream",
     "text": [
      "0.0\n"
     ]
    }
   ],
   "source": [
    "# Since sensors have no inputs (from the animat) and motors have no outputs, Phi of the whole animat should be zero\n",
    "print(Phi)"
   ]
  },
  {
   "cell_type": "code",
   "execution_count": 36,
   "metadata": {},
   "outputs": [
    {
     "name": "stderr",
     "output_type": "stream",
     "text": [
      "                                                        "
     ]
    },
    {
     "name": "stdout",
     "output_type": "stream",
     "text": [
      "[]\n"
     ]
    },
    {
     "name": "stderr",
     "output_type": "stream",
     "text": [
      "\r"
     ]
    }
   ],
   "source": [
    "# perhaps there are irreducible substructures within the animat?\n",
    "complexes = pyphi.compute.network.complexes(network,state)\n",
    "print(complexes)"
   ]
  },
  {
   "cell_type": "code",
   "execution_count": 37,
   "metadata": {},
   "outputs": [
    {
     "name": "stderr",
     "output_type": "stream",
     "text": [
      "/usr/local/lib/python3.7/site-packages/networkx/drawing/nx_pylab.py:579: MatplotlibDeprecationWarning: \n",
      "The iterable function was deprecated in Matplotlib 3.1 and will be removed in 3.3. Use np.iterable instead.\n",
      "  if not cb.iterable(width):\n",
      "/usr/local/lib/python3.7/site-packages/networkx/drawing/nx_pylab.py:676: MatplotlibDeprecationWarning: \n",
      "The iterable function was deprecated in Matplotlib 3.1 and will be removed in 3.3. Use np.iterable instead.\n",
      "  if cb.iterable(node_size):  # many node sizes\n"
     ]
    },
    {
     "data": {
      "image/png": "[encoded data removed]",
      "text/plain": [
       "<Figure size 432x288 with 1 Axes>"
      ]
     },
     "metadata": {},
     "output_type": "display_data"
    }
   ],
   "source": [
    "# for our example system in a state, there were no irreducible subsystems that would exist intrinsically if physically instantiated.\n",
    "# Let's inspect the animat. Do you think it makes sense that it is reducible?\n",
    "\n",
    "agency.plot_brain(cm)"
   ]
  },
  {
   "cell_type": "code",
   "execution_count": null,
   "metadata": {},
   "outputs": [],
   "source": []
  },
  {
   "cell_type": "code",
   "execution_count": 38,
   "metadata": {},
   "outputs": [
    {
     "data": {
      "text/plain": [
       "(0, 1, 5, 7)"
      ]
     },
     "execution_count": 38,
     "metadata": {},
     "output_type": "execute_result"
    }
   ],
   "source": [
    "account_prev.irreducible_causes[0].purview"
   ]
  },
  {
   "cell_type": "code",
   "execution_count": 39,
   "metadata": {},
   "outputs": [],
   "source": [
    "testanimat = Animat({})"
   ]
  },
  {
   "cell_type": "code",
   "execution_count": 40,
   "metadata": {},
   "outputs": [],
   "source": [
    "testanimat.saveBrain(TPM,cm)\n"
   ]
  },
  {
   "cell_type": "code",
   "execution_count": 41,
   "metadata": {},
   "outputs": [],
   "source": [
    "testanimat.saveBrainActivity(brain_activity[0][2])"
   ]
  },
  {
   "cell_type": "code",
   "execution_count": 42,
   "metadata": {},
   "outputs": [
    {
     "data": {
      "text/plain": [
       "[0, 1, 4, 5, 6, 7]"
      ]
     },
     "execution_count": 42,
     "metadata": {},
     "output_type": "execute_result"
    }
   ],
   "source": [
    "list(testanimat.sensor_ixs) + list(testanimat.hidden_ixs)"
   ]
  },
  {
   "cell_type": "code",
   "execution_count": 43,
   "metadata": {},
   "outputs": [],
   "source": [
    "testBTC = agency.backtrack_cause(testanimat,1,10)"
   ]
  },
  {
   "cell_type": "code",
   "execution_count": null,
   "metadata": {},
   "outputs": [],
   "source": []
  },
  {
   "cell_type": "code",
   "execution_count": 44,
   "metadata": {
    "scrolled": true
   },
   "outputs": [
    {
     "data": {
      "text/plain": [
       "[(CausalLink\n",
       "    α = 0.2996  [S1, S2, B, D] ◀━━ [M1], CausalLink\n",
       "    α = 0.0931  [S1, A, B, D] ◀━━ [M2], CausalLink\n",
       "    α = 0.0857  [S1, A, D] ◀━━ [M1, M2]), (CausalLink\n",
       "    α = 2.0  [S1, S2, B, D] ◀━━ [D],), (CausalLink\n",
       "    α = 2.0  [S1, S2, B, D] ◀━━ [D],)]"
      ]
     },
     "execution_count": 44,
     "metadata": {},
     "output_type": "execute_result"
    }
   ],
   "source": [
    "testBTC"
   ]
  },
  {
   "cell_type": "code",
   "execution_count": 45,
   "metadata": {
    "scrolled": true
   },
   "outputs": [
    {
     "name": "stdout",
     "output_type": "stream",
     "text": [
      "Calculating causal chain for trial 0.\n",
      "Calculating causal chain for trial 1.\n",
      "Calculating causal chain for trial 2.\n"
     ]
    }
   ],
   "source": [
    "CC = []\n",
    "for trial in range(3):\n",
    "    CC.append(agency.backtrack_cause_trial(testanimat,trial,5))"
   ]
  },
  {
   "cell_type": "code",
   "execution_count": 46,
   "metadata": {},
   "outputs": [],
   "source": [
    "CH = agency.calc_causal_history(testanimat,1)"
   ]
  },
  {
   "cell_type": "code",
   "execution_count": 47,
   "metadata": {},
   "outputs": [],
   "source": [
    "a = enumerate(range(10))"
   ]
  },
  {
   "cell_type": "code",
   "execution_count": 49,
   "metadata": {},
   "outputs": [
    {
     "name": "stdout",
     "output_type": "stream",
     "text": [
      "0\n",
      "1\n",
      "2\n",
      "3\n",
      "4\n"
     ]
    }
   ],
   "source": [
    "BT = agency.get_backtrack_array(CC[0][0],8,testanimat)"
   ]
  },
  {
   "cell_type": "code",
   "execution_count": 50,
   "metadata": {},
   "outputs": [
    {
     "data": {
      "text/plain": [
       "array([[0.5       , 0.5       , 0.        , 0.5       , 0.        ,\n",
       "        0.5       ],\n",
       "       [0.5       , 0.5       , 0.        , 0.5       , 0.        ,\n",
       "        0.5       ],\n",
       "       [0.5       , 0.5       , 0.        , 0.5       , 0.        ,\n",
       "        0.5       ],\n",
       "       [0.5       , 0.5       , 0.        , 0.5       , 0.        ,\n",
       "        0.5       ],\n",
       "       [0.12674392, 0.07489   , 0.05185392, 0.09816725, 0.        ,\n",
       "        0.12674392]])"
      ]
     },
     "execution_count": 50,
     "metadata": {},
     "output_type": "execute_result"
    }
   ],
   "source": [
    "BT\n"
   ]
  },
  {
   "cell_type": "code",
   "execution_count": null,
   "metadata": {},
   "outputs": [],
   "source": [
    "purview.union(set(0))\n"
   ]
  },
  {
   "cell_type": "code",
   "execution_count": null,
   "metadata": {},
   "outputs": [],
   "source": [
    "type(extended_purview) == list"
   ]
  },
  {
   "cell_type": "code",
   "execution_count": null,
   "metadata": {},
   "outputs": [],
   "source": [
    "test = None\n",
    "if test is None:\n",
    "    print('hello')"
   ]
  },
  {
   "cell_type": "code",
   "execution_count": null,
   "metadata": {},
   "outputs": [],
   "source": [
    "holder = []\n",
    "for i in range(1000):\n",
    "    holder.append(ran.rand())\n",
    "    \n",
    "plt.hist(holder,100)"
   ]
  },
  {
   "cell_type": "code",
   "execution_count": null,
   "metadata": {},
   "outputs": [],
   "source": [
    "len(CC[0][0])"
   ]
  },
  {
   "cell_type": "code",
   "execution_count": null,
   "metadata": {},
   "outputs": [],
   "source": [
    "CC2 = CC[0][0]\n",
    "\n",
    "n_backsteps = len(CC2)\n",
    "BT = np.zeros((n_backsteps,testanimat.n_nodes-2))\n",
    "\n",
    "for i, cause_account in enumerate(CC2):\n",
    "    print(i)\n",
    "    if animat is not None:\n",
    "        n_nodes = animat.n_nodes\n",
    "\n",
    "    alpha_dist = np.zeros(n_nodes)\n",
    "    for causal_link in cause_account:\n",
    "        # checking if the causal link has an extended purview\n",
    "        if hasattr(causal_link,'_extended_purview'):\n",
    "            ext_purv = causal_link._extended_purview\n",
    "            # getting the alpha and the number of purviews over which it should be divided\n",
    "            alpha = causal_link.alpha\n",
    "            n_purviews = len(ext_purv)\n",
    "            alpha = alpha/n_purviews\n",
    "\n",
    "            # looping over purviews and dividing alpha to nodes\n",
    "            for purview in ext_purv:\n",
    "                purview_length = len(purview)\n",
    "                alpha_dist[list(purview)] += alpha/purview_length\n",
    "        else:\n",
    "            purview = list(causal_link.purview)\n",
    "            alpha = causal_link.alpha\n",
    "            purview_length = len(purview)\n",
    "            alpha_dist[list(purview)] += alpha/purview_length\n",
    "\n",
    "    if testanimat is None:\n",
    "        alpha_dist = alpha_dist[[0,3,4,5,6]] if n_nodes==7 else alpha_dist[[0,1,4,5,6,7]]\n",
    "    else:\n",
    "        alpha_dist = alpha_dist[testanimat.sensor_ixs+animat.hidden_ixs]\n",
    "    \n",
    "    BT[n_backsteps - (i+1),:] = alpha_dist"
   ]
  },
  {
   "cell_type": "code",
   "execution_count": null,
   "metadata": {},
   "outputs": [],
   "source": []
  }
 ],
 "metadata": {
  "kernelspec": {
   "display_name": "Python 3",
   "language": "python",
   "name": "python3"
  },
  "language_info": {
   "codemirror_mode": {
    "name": "ipython",
    "version": 3
   },
   "file_extension": ".py",
   "mimetype": "text/x-python",
   "name": "python",
   "nbconvert_exporter": "python",
   "pygments_lexer": "ipython3",
   "version": "3.7.4"
  }
 },
 "nbformat": 4,
 "nbformat_minor": 2
}
